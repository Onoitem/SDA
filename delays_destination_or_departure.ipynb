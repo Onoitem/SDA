{
 "cells": [
  {
   "cell_type": "markdown",
   "metadata": {},
   "source": [
    "# Do delays depend more on the destination or the departure?"
   ]
  },
  {
   "cell_type": "markdown",
   "metadata": {},
   "source": [
    "### Step 1: Load the Datasets"
   ]
  },
  {
   "cell_type": "code",
   "execution_count": 85,
   "metadata": {},
   "outputs": [],
   "source": [
    "import pandas as pd\n",
    "from scipy.stats import ttest_ind\n",
    "import matplotlib.pyplot as plt\n",
    "\n",
    "original_data = pd.read_csv('../flights.csv', low_memory=False)\n",
    "airlines_data = pd.read_csv('../airlines.csv', low_memory=False)\n",
    "airports_data = pd.read_csv('../airports.csv', low_memory=False)"
   ]
  },
  {
   "cell_type": "code",
   "execution_count": 117,
   "metadata": {},
   "outputs": [],
   "source": [
    "flights_data = original_data.copy()"
   ]
  },
  {
   "cell_type": "code",
   "execution_count": 120,
   "metadata": {},
   "outputs": [
    {
     "name": "stdout",
     "output_type": "stream",
     "text": [
      "['ANC' 'LAX' 'SFO' 'SEA' 'LAS' 'DEN' 'SLC' 'PDX' 'FAI' 'MSP' 'PHX' 'SJU'\n",
      " 'PBG' 'IAG' 'PSE' 'BQN' 'ORD' 'GEG' 'HNL' 'ONT' 'MCO' 'BOS' 'HIB' 'ABR'\n",
      " 'MAF' 'DFW' 'MKE' 'IAH' 'BNA' 'BRO' 'VPS' 'BOI' 'BJI' 'SGF' 'PHL' 'SBN'\n",
      " 'RDD' 'EUG' 'IAD' 'BUF' 'PWM' 'JFK' 'CRP' 'PIA' 'FAT' 'SMF' 'AUS' 'MCI'\n",
      " 'ATL' 'JAX' 'MFR' 'IDA' 'MSN' 'DCA' 'SAT' 'CHS' 'SBA' 'SMX' 'IND' 'CLE'\n",
      " 'GSP' 'BDL' 'ABI' 'RIC' 'BFL' 'OMA' 'RDM' 'FLL' 'CID' 'TPA' 'SYR' 'ROC'\n",
      " 'TYR' 'LAN' 'XNA' 'GSO' 'EWR' 'PBI' 'RSW' 'OAK' 'PVD' 'RNO' 'PIT' 'ABQ'\n",
      " 'MIA' 'BWI' 'LGA' 'TUL' 'LIT' 'MSY' 'OKC' 'ATW' 'PNS' 'MEM' 'TYS' 'MHT'\n",
      " 'SAV' 'CLT' 'GRB' 'ABE' 'JAN' 'OAJ' 'FAR' 'ERI' 'LEX' 'CWA' 'MSO' 'TTN'\n",
      " 'AMA' 'CLL' 'HOU' 'JLN' 'MLI' 'RDU' 'CVG' 'MHK' 'MOB' 'TLH' 'BHM' 'CAE'\n",
      " 'TXK' 'ACY' 'DTW' 'RAP' 'TUS' 'EAU' 'DLH' 'FSD' 'INL' 'CMX' 'SPI' 'CLD'\n",
      " 'COD' 'CMH' 'LRD' 'PSC' 'CPR' 'ACV' 'DAL' 'PAH' 'MRY' 'ESC' 'ISN' 'PSP'\n",
      " 'MFE' 'STL' 'BTV' 'FSM' 'AEX' 'SPS' 'ACT' 'SJT' 'MTJ' 'GCC' 'OGG' 'SJC'\n",
      " 'GUC' 'ORF' 'MOT' 'MLU' 'KOA' 'SAN' 'LAW' 'PIB' 'MGM' 'SBP' 'COS' 'LAR'\n",
      " 'DRO' 'BIS' 'ITO' 'BTR' 'GRI' 'HLN' 'BZN' 'MDW' 'MDT' 'SCE' 'LIH' 'TWF'\n",
      " 'BPT' 'GPT' 'STC' 'HPN' 'MLB' 'PLN' 'CIU' 'CAK' 'DSM' 'BLI' 'SHV' 'ROW'\n",
      " 'FWA' 'SNA' 'ALB' 'HOB' 'LNK' 'CMI' 'COU' 'GTF' 'EKO' 'LGB' 'AVL' 'HSV'\n",
      " 'SAF' 'GRR' 'SUX' 'LFT' 'HYS' 'ELP' 'DVL' 'ISP' 'BUR' 'DAB' 'DAY' 'GRK'\n",
      " 'GJT' 'BMI' 'LBE' 'ASE' 'RKS' 'GUM' 'TVC' 'ALO' 'IMT' 'LCH' 'JNU' 'JAC'\n",
      " 'MEI' 'DBQ' 'GCK' 'GNV' 'BRD' 'DIK' 'SDF' 'LBB' 'AVP' 'BTM' 'ELM' 'PIH'\n",
      " 'ICT' 'SUN' 'LWS' 'VEL' 'STT' 'YUM' 'FLG' 'FCA' 'HDN' 'JMS' 'ROA' 'CHA'\n",
      " 'EYW' 'MYR' 'CRW' 'MQT' 'CHO' 'ECP' 'EVV' 'EGE' 'MBS' 'GFK' 'TOL' 'BIL'\n",
      " 'OTZ' 'KTN' 'STX' 'ILM' 'PUB' 'RHI' 'CDC' 'HRL' 'SCC' 'FNT' 'LSE' 'MMH'\n",
      " 'APN' 'AGS' 'CEC' 'DHN' 'WRG' 'PHF' 'CNY' 'BRW' 'GGG' 'AZO' 'SRQ' 'ORH'\n",
      " 'TRI' 'VLD' 'SIT' 'BQK' 'PSG' 'FAY' 'MKG' 'CSG' 'EWN' 'OME' 'SGU' 'RST'\n",
      " 'GTR' 'BET' 'ABY' 'SWF' 'ILG' 'ADK' 'UST' 'YAK' 'CDV' 'OTH' 'ADQ' 'PPG'\n",
      " 'BGM' 'BGR' 'ITH' 'ACK' 'MVY' 'WYS' 'DLG' 'AKN' 'GST' 'HYA' '14747'\n",
      " '14771' '12889' '12892' '14869' '10299' '11292' '14107' '11630' '10732'\n",
      " '14254' '10141' '10627' '11982' '12173' '13930' '14683' '12266' '11618'\n",
      " '10721' '13487' '11884' '15919' '13851' '11111' '10693' '12191' '14783'\n",
      " '15016' '14487' '10423' '15370' '11953' '13891' '15376' '11778' '11278'\n",
      " '14100' '13204' '15304' '11637' '14842' '10155' '11775' '11298' '11057'\n",
      " '13931' '10821' '14122' '11049' '10990' '10631' '13158' '14108' '13198'\n",
      " '11447' '12206' '13495' '14057' '15624' '10747' '15411' '12891' '10994'\n",
      " '13256' '10792' '14492' '12451' '13127' '10781' '14960' '12278' '14685'\n",
      " '11995' '13485' '11977' '10257' '13796' '13232' '13296' '14570' '14893'\n",
      " '14524' '12217' '10713' '10208' '10136' '11603' '14689' '11471' '11315'\n",
      " '13264' '12478' '14814' '11308' '11066' '12896' '10397' '14307' '11721'\n",
      " '11140' '10185' '13277' '11203' '13342' '11433' '11697' '12953' '10599'\n",
      " '12156' '14952' '10620' '11042' '15096' '10408' '15249' '11423' '12915'\n",
      " '12264' '12339' '10140' '13871' '14027' '13244' '11267' '11540' '14576'\n",
      " '10868' '13486' '13476' '14489' '12945' '15607' '10529' '11986' '14635'\n",
      " '13303' '10785' '15380' '11996' '10561' '10874' '13367' '10146' '10431'\n",
      " '11973' '10980' '12197' '14098' '12323' '10577' '11150' '10135' '11617'\n",
      " '13795' '13029' '11003' '11146' '11577' '15356' '11259' '10279' '14321'\n",
      " '14843' '11638' '14828' '11481' '12951' '10434' '12448' '14730' '15323'\n",
      " '14252' '11193' '10849' '14193' '14986' '11641' '12992' '13422' '11612'\n",
      " '11823' '11980' '13290' '10158' '10685' '13377' '11109' '11076' '11122'\n",
      " '11865' '14543' '14905' '11587' '14457' '12335' '12343' '12003' '10157'\n",
      " '12884' '14633' '15048' '10268' '15295' '12389' '11525' '14262' '12888'\n",
      " '12391' '11648' '14696' '12758' '13830' '10469' '15412' '10731' '14679'\n",
      " '14831' '11413' '13433' '12982' '11867' '14698' '11537' '15389' '12402'\n",
      " '11337' '13360' '13076' '14006' '10728' '15401' '13230' '12016' '11067'\n",
      " '11274' '11921' '12519' '11013' '10779' '14150' '14794' '12511' '12177'\n",
      " '12523' '14908' '12007' '14588' '13577' '13061' '15041' '14109' '10800'\n",
      " '12954' '12441' '12898' '11695' '16218' '14113' '11624' '11503' '10739'\n",
      " '14574' '14711' '12129' '15070' '14520' '13184' '11252' '12280' '13241'\n",
      " '11898' '15024' '14674' '10551' '12819' '13459' '10581' '13970' '10372'\n",
      " '10918' '14709' '12255' '11905' '10333' '15841' '13344' '13933' '15991'\n",
      " '10754' '14256' '12094' '13873' '11097' '10154' '10926' '13964' '13541'\n",
      " '15027' '10170' '10165' '15497' '12265' '14222' '14025' '13502']\n"
     ]
    }
   ],
   "source": [
    "#print(airports_data['IATA_CODE'].unique())\n",
    "# Exclude rows where 'ORIGIN_AIRPORT' is a numeric code\n",
    "#flights_data = flights_data[~flights_data['ORIGIN_AIRPORT'].str.isnumeric()]\n",
    "print(flights_data['ORIGIN_AIRPORT'].unique())\n"
   ]
  },
  {
   "cell_type": "markdown",
   "metadata": {},
   "source": [
    "### Step 2: Merge Datasets"
   ]
  },
  {
   "cell_type": "code",
   "execution_count": 87,
   "metadata": {},
   "outputs": [
    {
     "name": "stdout",
     "output_type": "stream",
     "text": [
      "(5819079, 47)\n"
     ]
    }
   ],
   "source": [
    "# Renaming columns in airports_data\n",
    "airports_data_origin = airports_data.rename(columns=lambda x: x + \"_ORIGIN\")\n",
    "airports_data_destination = airports_data.rename(\n",
    "    columns=lambda x: x + \"_DESTINATION\")\n",
    "\n",
    "# Merging with airlines\n",
    "flights_data = pd.merge(flights_data, airlines_data,\n",
    "                        left_on='AIRLINE', right_on='IATA_CODE', how='left')\n",
    "\n",
    "\n",
    "# Merging with airports for departure\n",
    "flights_data = pd.merge(flights_data, airports_data_origin,\n",
    "                        left_on='ORIGIN_AIRPORT', right_on='IATA_CODE_ORIGIN', how='left')\n",
    "\n",
    "# Merging with airports for destination\n",
    "flights_data = pd.merge(flights_data, airports_data_destination,\n",
    "                        left_on='DESTINATION_AIRPORT', right_on='IATA_CODE_DESTINATION', how='left')"
   ]
  },
  {
   "cell_type": "markdown",
   "metadata": {},
   "source": [
    "### Step 3: Data Preprocessing"
   ]
  },
  {
   "cell_type": "code",
   "execution_count": 100,
   "metadata": {},
   "outputs": [
    {
     "name": "stdout",
     "output_type": "stream",
     "text": [
      "['ANC' 'LAX' 'SFO' 'SEA' 'LAS' 'DEN' 'SLC' 'PDX' 'FAI' 'MSP' 'PHX' 'SJU'\n",
      " 'PBG' 'IAG' 'PSE' 'BQN' 'ORD' 'GEG' 'HNL' 'ONT' 'MCO' 'BOS' 'HIB' 'ABR'\n",
      " 'DFW' 'MKE' 'IAH' 'BNA' 'BRO' 'VPS' 'BOI' 'BJI' 'PHL' 'SBN' 'EUG' 'IAD'\n",
      " 'BUF' 'PWM' 'JFK' 'CRP' 'PIA' 'FAT' 'SMF' 'AUS' 'MCI' 'ATL' 'JAX' 'MFR'\n",
      " 'IDA' 'MSN' 'DCA' 'SAT' 'CHS' 'SBA' 'IND' 'CLE' 'GSP' 'BDL' 'RIC' 'BFL'\n",
      " 'OMA' 'RDM' 'FLL' 'CID' 'TPA' 'SYR' 'ROC' 'TYR' 'LAN' 'GSO' 'EWR' 'PBI'\n",
      " 'RSW' 'OAK' 'PVD' 'RNO' 'PIT' 'ABQ' 'MIA' 'BWI' 'TUL' 'LGA' 'LIT' 'MSY'\n",
      " 'OKC' 'ATW' 'PNS' 'MEM' 'TYS' 'MHT' 'SAV' 'CLT' 'GRB' 'ABE' 'JAN' 'OAJ'\n",
      " 'FAR' 'ERI' 'LEX' 'CWA' 'TTN' 'RDU' 'CVG' 'BHM' 'ACY' 'DTW' 'RAP' 'TUS'\n",
      " 'EAU' 'DLH' 'FSD' 'INL' 'SPI' 'CLD' 'COD' 'CMH' 'PSC' 'CPR' 'ACV' 'DAL'\n",
      " 'PAH' 'MRY' 'ESC' 'ISN' 'PSP' 'CAE' 'STL' 'BTV' 'MTJ' 'GCC' 'OGG' 'SJC'\n",
      " 'GUC' 'ORF' 'MOT' 'MLU' 'KOA' 'HOU' 'MOB' 'SAN' 'LAW' 'PIB' 'MGM' 'SBP'\n",
      " 'COS' 'LAR' 'DRO' 'BIS' 'ITO' 'BTR' 'HLN' 'BZN' 'MDW' 'MDT' 'SCE' 'LIH'\n",
      " 'TWF' 'BPT' 'GPT' 'STC' 'HPN' 'MLB' 'PLN' 'CIU' 'CAK' 'DSM' 'BLI' 'SHV'\n",
      " 'SNA' 'ALB' 'LNK' 'CMI' 'GTF' 'EKO' 'LGB' 'AVL' 'HSV' 'XNA' 'SUX' 'HYS'\n",
      " 'MFE' 'ISP' 'BUR' 'DAB' 'DAY' 'LFT' 'LBE' 'ASE' 'GUM' 'TVC' 'ALO' 'TLH'\n",
      " 'ELP' 'MHK' 'IMT' 'JNU' 'JAC' 'MEI' 'DBQ' 'GNV' 'BRD' 'DIK' 'SDF' 'LBB'\n",
      " 'AVP' 'SGF' 'COU' 'BTM' 'ELM' 'RKS' 'PIH' 'SUN' 'LWS' 'VEL' 'STT' 'SAF'\n",
      " 'YUM' 'FCA' 'GRR' 'HDN' 'ROA' 'CHA' 'EYW' 'MYR' 'CRW' 'MQT' 'CHO' 'GJT'\n",
      " 'FWA' 'ECP' 'EVV' 'MSO' 'EGE' 'AMA' 'MLI' 'MBS' 'GFK' 'GRK' 'BIL' 'OTZ'\n",
      " 'KTN' 'STX' 'ILM' 'PUB' 'RHI' 'CDC' 'HRL' 'SCC' 'FNT' 'LSE' 'MMH' 'ACT'\n",
      " 'FSM' 'AGS' 'CEC' 'ICT' 'AEX' 'DHN' 'LRD' 'WRG' 'PHF' 'CNY' 'BRW' 'GGG'\n",
      " 'AZO' 'CLL' 'SRQ' 'ORH' 'FLG' 'TRI' 'VLD' 'SIT' 'BQK' 'BMI' 'PSG' 'FAY'\n",
      " 'MKG' 'CSG' 'MAF' 'EWN' 'OME' 'CMX' 'JMS' 'SGU' 'RST' 'GTR' 'BET' 'TOL'\n",
      " 'APN' 'SMX' 'LCH' 'RDD' 'GCK' 'DVL' 'GRI' 'ABY' 'SWF' 'ILG' 'JLN' 'ADK'\n",
      " 'UST' 'TXK' 'SPS' 'ABI' 'YAK' 'SJT' 'CDV' 'OTH' 'ADQ' 'PPG' 'ROW' 'HOB'\n",
      " 'BGM' 'BGR' 'ITH' 'ACK' 'MVY' 'WYS' 'DLG' 'AKN' 'GST' 'HYA' '14747'\n",
      " '14771' '12889' '12892' '14869' '10299' '11292' '14107' '11630' '10732'\n",
      " '14254' '10141' '10627' '11982' '12173' '13930' '14683' '12266' '11618'\n",
      " '10721' '13487' '11884' '15919' '13851' '11111' '10693' '12191' '14783'\n",
      " '15016' '14487' '10423' '15370' '11953' '13891' '15376' '11778' '11278'\n",
      " '14100' '13204' '15304' '11637' '14842' '10155' '11775' '11298' '11057'\n",
      " '13931' '10821' '14122' '11049' '10990' '10631' '13158' '14108' '13198'\n",
      " '11447' '12206' '13495' '14057' '15624' '10747' '15411' '12891' '10994'\n",
      " '13256' '10792' '14492' '12451' '13127' '10781' '14960' '12278' '14685'\n",
      " '11995' '13485' '11977' '10257' '13796' '13232' '13296' '14570' '14893'\n",
      " '14524' '12217' '10713' '10208' '10136' '11603' '14689' '11471' '11315'\n",
      " '13264' '12478' '14814' '11308' '11066' '12896' '10397' '14307' '11721'\n",
      " '11140' '10185' '13277' '11203' '13342' '11433' '11697' '12953' '10599'\n",
      " '12156' '14952' '10620' '11042' '15096' '10408' '15249' '11423' '12915'\n",
      " '12264' '12339' '10140' '13871' '14027' '13244' '11267' '11540' '14576'\n",
      " '10868' '13486' '13476' '14489' '12945' '15607' '10529' '11986' '14635'\n",
      " '13303' '10785' '15380' '11996' '10561' '10874' '13367' '10146' '10431'\n",
      " '11973' '10980' '12197' '14098' '12323' '10577' '11150' '10135' '11617'\n",
      " '13795' '13029' '11003' '11146' '11577' '15356' '11259' '10279' '14321'\n",
      " '14843' '11638' '14828' '11481' '12951' '10434' '12448' '14730' '15323'\n",
      " '14252' '11193' '10849' '14193' '14986' '11641' '12992' '13422' '11612'\n",
      " '11823' '11980' '13290' '10158' '10685' '13377' '11109' '11076' '11122'\n",
      " '11865' '14543' '14905' '11587' '14457' '12335' '12343' '12003' '10157'\n",
      " '12884' '14633' '15048' '10268' '15295' '12389' '11525' '14262' '12888'\n",
      " '12391' '11648' '14696' '12758' '13830' '10469' '15412' '10731' '14679'\n",
      " '14831' '11413' '13433' '12982' '11867' '14698' '11537' '15389' '12402'\n",
      " '11337' '13360' '13076' '14006' '10728' '15401' '13230' '12016' '11067'\n",
      " '11274' '11921' '12519' '11013' '10779' '14150' '14794' '12511' '12177'\n",
      " '12523' '14908' '12007' '14588' '13577' '13061' '15041' '14109' '10800'\n",
      " '12954' '12441' '12898' '16218' '14113' '11624' '11503' '10739' '14574'\n",
      " '14711' '12129' '15070' '14520' '13184' '11252' '12280' '13241' '11898'\n",
      " '15024' '14674' '10551' '12819' '13459' '10581' '13970' '10372' '10918'\n",
      " '14709' '12255' '11905' '10333' '11695' '15841' '13344' '13933' '15991'\n",
      " '10754' '14256' '12094' '13873' '11097' '10154' '10926' '13964' '13541'\n",
      " '15027' '10170' '10165' '15497' '12265' '14222' '14025' '13502']\n"
     ]
    }
   ],
   "source": [
    "# You can drop or impute missing values based on your requirement\n",
    "# TODO: Check if any preprocessing is required for the data\n",
    "flights_data.dropna(subset=['DEPARTURE_DELAY', 'ARRIVAL_DELAY', 'ORIGIN_AIRPORT', 'DESTINATION_AIRPORT'], inplace=True)\n",
    "print(flights_data['ORIGIN_AIRPORT'].unique())\n"
   ]
  },
  {
   "cell_type": "markdown",
   "metadata": {},
   "source": [
    "### Step 4: Analyzing Departure Delays"
   ]
  },
  {
   "cell_type": "code",
   "execution_count": 89,
   "metadata": {},
   "outputs": [
    {
     "name": "stdout",
     "output_type": "stream",
     "text": [
      "    ORIGIN_AIRPORT  DEPARTURE_DELAY\n",
      "0            10135         9.372385\n",
      "1            10136         2.880208\n",
      "2            10140         5.886427\n",
      "3            10141         1.514286\n",
      "4            10146         8.883721\n",
      "..             ...              ...\n",
      "623            WRG         2.953775\n",
      "624            WYS         1.375000\n",
      "625            XNA        11.810889\n",
      "626            YAK        -6.507692\n",
      "627            YUM         1.232470\n",
      "\n",
      "[628 rows x 2 columns]\n"
     ]
    }
   ],
   "source": [
    "departure_delays = flights_data.groupby('ORIGIN_AIRPORT')['DEPARTURE_DELAY'].mean().reset_index()"
   ]
  },
  {
   "cell_type": "markdown",
   "metadata": {},
   "source": [
    "### Step 5: Analyzing Arrival Delays"
   ]
  },
  {
   "cell_type": "code",
   "execution_count": 90,
   "metadata": {},
   "outputs": [
    {
     "name": "stdout",
     "output_type": "stream",
     "text": [
      "    DESTINATION_AIRPORT  ARRIVAL_DELAY\n",
      "0                 10135       1.182979\n",
      "1                 10136       1.221649\n",
      "2                 10140       1.631143\n",
      "3                 10141      -1.887324\n",
      "4                 10146       7.126437\n",
      "..                  ...            ...\n",
      "624                 WRG       5.375767\n",
      "625                 WYS       4.193237\n",
      "626                 XNA       8.772090\n",
      "627                 YAK       0.371166\n",
      "628                 YUM       3.259159\n",
      "\n",
      "[629 rows x 2 columns]\n"
     ]
    }
   ],
   "source": [
    "destination_delays = flights_data.groupby('DESTINATION_AIRPORT')['ARRIVAL_DELAY'].mean().reset_index()"
   ]
  },
  {
   "cell_type": "markdown",
   "metadata": {},
   "source": [
    "### Step 6: Statistical Analysis"
   ]
  },
  {
   "cell_type": "code",
   "execution_count": 91,
   "metadata": {},
   "outputs": [
    {
     "name": "stdout",
     "output_type": "stream",
     "text": [
      "T-statistic: 10.061056746618805\n",
      "P-value: 5.924696378899846e-23\n"
     ]
    }
   ],
   "source": [
    "t_stat, p_value = ttest_ind(departure_delays['DEPARTURE_DELAY'], destination_delays['ARRIVAL_DELAY'])\n",
    "print(\"T-statistic:\", t_stat)\n",
    "print(\"P-value:\", p_value)"
   ]
  },
  {
   "cell_type": "code",
   "execution_count": 99,
   "metadata": {},
   "outputs": [
    {
     "name": "stdout",
     "output_type": "stream",
     "text": [
      "    ORIGIN_AIRPORT  DEPARTURE_DELAY\n",
      "0            10135         9.372385\n",
      "1            10136         2.880208\n",
      "2            10140         5.886427\n",
      "3            10141         1.514286\n",
      "4            10146         8.883721\n",
      "..             ...              ...\n",
      "623            WRG         2.953775\n",
      "624            WYS         1.375000\n",
      "625            XNA        11.810889\n",
      "626            YAK        -6.507692\n",
      "627            YUM         1.232470\n",
      "\n",
      "[628 rows x 2 columns]\n"
     ]
    }
   ],
   "source": [
    "# TODO: DELTE AFTER\n",
    "print(departure_delays)"
   ]
  },
  {
   "cell_type": "markdown",
   "metadata": {},
   "source": [
    "### Step 7: Visualization"
   ]
  },
  {
   "cell_type": "code",
   "execution_count": 95,
   "metadata": {},
   "outputs": [
    {
     "data": {
      "image/png": "[encoded data removed]",
      "text/plain": [
       "<Figure size 640x480 with 1 Axes>"
      ]
     },
     "metadata": {},
     "output_type": "display_data"
    }
   ],
   "source": [
    "plt.plot(departure_delays['DEPARTURE_DELAY'], label='Departure Delays')\n",
    "plt.plot(destination_delays['ARRIVAL_DELAY'], label='Destination Delays')\n",
    "plt.xlabel('Airport Index')  # X-axis label\n",
    "plt.ylabel('Mean Delay (minutes)')  # Y-axis label\n",
    "plt.legend()\n",
    "plt.show()"
   ]
  },
  {
   "cell_type": "markdown",
   "metadata": {},
   "source": [
    "### Conclusion\n",
    "\n",
    "Based on the p-value, you can conclude whether there's a significant difference between departure and destination delays. If the p-value is less than the chosen alpha level (e.g., 0.05), then you might conclude that there's a significant difference.\n",
    "\n",
    "The code and steps provided will allow you to analyze and compare the delays based on departure and destination airports, thereby answering the question of whether delays depend more on the destination or the departure. Make sure to analyze the results in the context of your specific data and domain knowledge."
   ]
  }
 ],
 "metadata": {
  "kernelspec": {
   "display_name": "Python 3",
   "language": "python",
   "name": "python3"
  },
  "language_info": {
   "codemirror_mode": {
    "name": "ipython",
    "version": 3
   },
   "file_extension": ".py",
   "mimetype": "text/x-python",
   "name": "python",
   "nbconvert_exporter": "python",
   "pygments_lexer": "ipython3",
   "version": "3.10.12"
  },
  "orig_nbformat": 4
 },
 "nbformat": 4,
 "nbformat_minor": 2
}
