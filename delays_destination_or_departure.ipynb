{
 "cells": [
  {
   "cell_type": "markdown",
   "metadata": {},
   "source": [
    "# Do delays depend more on the destination or the departure?\n"
   ]
  },
  {
   "cell_type": "markdown",
   "metadata": {},
   "source": [
    "## 1. Initial analysis\n"
   ]
  },
  {
   "cell_type": "markdown",
   "metadata": {},
   "source": [
    "### Step 1: Load the Datasets\n"
   ]
  },
  {
   "cell_type": "code",
   "execution_count": 120,
   "metadata": {},
   "outputs": [],
   "source": [
    "import pandas as pd\n",
    "from scipy.stats import ttest_ind\n",
    "import matplotlib.pyplot as plt\n",
    "\n",
    "original_data = pd.read_csv('../flights.csv', low_memory=False)\n",
    "airlines_data = pd.read_csv('../airlines.csv', low_memory=False)\n",
    "airports_data = pd.read_csv('../airports.csv', low_memory=False)\n"
   ]
  },
  {
   "cell_type": "code",
   "execution_count": 121,
   "metadata": {},
   "outputs": [],
   "source": [
    "flights_data = original_data.copy()\n"
   ]
  },
  {
   "cell_type": "code",
   "execution_count": 122,
   "metadata": {},
   "outputs": [
    {
     "data": {
      "text/html": [
       "<div>\n",
       "<style scoped>\n",
       "    .dataframe tbody tr th:only-of-type {\n",
       "        vertical-align: middle;\n",
       "    }\n",
       "\n",
       "    .dataframe tbody tr th {\n",
       "        vertical-align: top;\n",
       "    }\n",
       "\n",
       "    .dataframe thead th {\n",
       "        text-align: right;\n",
       "    }\n",
       "</style>\n",
       "<table border=\"1\" class=\"dataframe\">\n",
       "  <thead>\n",
       "    <tr style=\"text-align: right;\">\n",
       "      <th></th>\n",
       "      <th>ORIGIN_AIRPORT</th>\n",
       "      <th>DEPARTURE_DELAY</th>\n",
       "    </tr>\n",
       "  </thead>\n",
       "  <tbody>\n",
       "    <tr>\n",
       "      <th>234</th>\n",
       "      <td>14222</td>\n",
       "      <td>89.111111</td>\n",
       "    </tr>\n",
       "    <tr>\n",
       "      <th>460</th>\n",
       "      <td>ILG</td>\n",
       "      <td>29.391753</td>\n",
       "    </tr>\n",
       "    <tr>\n",
       "      <th>219</th>\n",
       "      <td>13964</td>\n",
       "      <td>28.843750</td>\n",
       "    </tr>\n",
       "    <tr>\n",
       "      <th>525</th>\n",
       "      <td>MVY</td>\n",
       "      <td>25.907317</td>\n",
       "    </tr>\n",
       "    <tr>\n",
       "      <th>453</th>\n",
       "      <td>HYA</td>\n",
       "      <td>23.182927</td>\n",
       "    </tr>\n",
       "    <tr>\n",
       "      <th>5</th>\n",
       "      <td>10154</td>\n",
       "      <td>22.857143</td>\n",
       "    </tr>\n",
       "    <tr>\n",
       "      <th>29</th>\n",
       "      <td>10581</td>\n",
       "      <td>20.111111</td>\n",
       "    </tr>\n",
       "    <tr>\n",
       "      <th>599</th>\n",
       "      <td>STC</td>\n",
       "      <td>18.692308</td>\n",
       "    </tr>\n",
       "    <tr>\n",
       "      <th>537</th>\n",
       "      <td>OTH</td>\n",
       "      <td>17.777358</td>\n",
       "    </tr>\n",
       "    <tr>\n",
       "      <th>325</th>\n",
       "      <td>ASE</td>\n",
       "      <td>17.587538</td>\n",
       "    </tr>\n",
       "  </tbody>\n",
       "</table>\n",
       "</div>"
      ],
      "text/plain": [
       "    ORIGIN_AIRPORT  DEPARTURE_DELAY\n",
       "234          14222        89.111111\n",
       "460            ILG        29.391753\n",
       "219          13964        28.843750\n",
       "525            MVY        25.907317\n",
       "453            HYA        23.182927\n",
       "5            10154        22.857143\n",
       "29           10581        20.111111\n",
       "599            STC        18.692308\n",
       "537            OTH        17.777358\n",
       "325            ASE        17.587538"
      ]
     },
     "execution_count": 122,
     "metadata": {},
     "output_type": "execute_result"
    }
   ],
   "source": [
    "result = flights_data.groupby(['ORIGIN_AIRPORT'])[\n",
    "    'DEPARTURE_DELAY'].mean().reset_index()\n",
    "result = result.sort_values(by='DEPARTURE_DELAY', ascending=False)\n",
    "result = result.head(10)\n",
    "result"
   ]
  },
  {
   "cell_type": "code",
   "execution_count": 123,
   "metadata": {},
   "outputs": [
    {
     "data": {
      "text/html": [
       "<div>\n",
       "<style scoped>\n",
       "    .dataframe tbody tr th:only-of-type {\n",
       "        vertical-align: middle;\n",
       "    }\n",
       "\n",
       "    .dataframe tbody tr th {\n",
       "        vertical-align: top;\n",
       "    }\n",
       "\n",
       "    .dataframe thead th {\n",
       "        text-align: right;\n",
       "    }\n",
       "</style>\n",
       "<table border=\"1\" class=\"dataframe\">\n",
       "  <thead>\n",
       "    <tr style=\"text-align: right;\">\n",
       "      <th></th>\n",
       "      <th>DESTINATION_AIRPORT</th>\n",
       "      <th>ARRIVAL_DELAY</th>\n",
       "    </tr>\n",
       "  </thead>\n",
       "  <tbody>\n",
       "    <tr>\n",
       "      <th>220</th>\n",
       "      <td>13964</td>\n",
       "      <td>26.906250</td>\n",
       "    </tr>\n",
       "    <tr>\n",
       "      <th>600</th>\n",
       "      <td>STC</td>\n",
       "      <td>23.025974</td>\n",
       "    </tr>\n",
       "    <tr>\n",
       "      <th>461</th>\n",
       "      <td>ILG</td>\n",
       "      <td>21.989474</td>\n",
       "    </tr>\n",
       "    <tr>\n",
       "      <th>223</th>\n",
       "      <td>14025</td>\n",
       "      <td>18.000000</td>\n",
       "    </tr>\n",
       "    <tr>\n",
       "      <th>612</th>\n",
       "      <td>TTN</td>\n",
       "      <td>17.433901</td>\n",
       "    </tr>\n",
       "    <tr>\n",
       "      <th>444</th>\n",
       "      <td>GUM</td>\n",
       "      <td>17.320242</td>\n",
       "    </tr>\n",
       "    <tr>\n",
       "      <th>538</th>\n",
       "      <td>OTH</td>\n",
       "      <td>16.740602</td>\n",
       "    </tr>\n",
       "    <tr>\n",
       "      <th>519</th>\n",
       "      <td>MQT</td>\n",
       "      <td>16.152027</td>\n",
       "    </tr>\n",
       "    <tr>\n",
       "      <th>326</th>\n",
       "      <td>ASE</td>\n",
       "      <td>15.829448</td>\n",
       "    </tr>\n",
       "    <tr>\n",
       "      <th>541</th>\n",
       "      <td>PBG</td>\n",
       "      <td>15.288256</td>\n",
       "    </tr>\n",
       "  </tbody>\n",
       "</table>\n",
       "</div>"
      ],
      "text/plain": [
       "    DESTINATION_AIRPORT  ARRIVAL_DELAY\n",
       "220               13964      26.906250\n",
       "600                 STC      23.025974\n",
       "461                 ILG      21.989474\n",
       "223               14025      18.000000\n",
       "612                 TTN      17.433901\n",
       "444                 GUM      17.320242\n",
       "538                 OTH      16.740602\n",
       "519                 MQT      16.152027\n",
       "326                 ASE      15.829448\n",
       "541                 PBG      15.288256"
      ]
     },
     "execution_count": 123,
     "metadata": {},
     "output_type": "execute_result"
    }
   ],
   "source": [
    "result = flights_data.groupby(['DESTINATION_AIRPORT'])[\n",
    "    'ARRIVAL_DELAY'].mean().reset_index()\n",
    "result = result.sort_values(by='ARRIVAL_DELAY', ascending=False)\n",
    "result = result.head(10)\n",
    "result"
   ]
  },
  {
   "cell_type": "code",
   "execution_count": 124,
   "metadata": {},
   "outputs": [],
   "source": [
    "mask_origin = ~flights_data['ORIGIN_AIRPORT'].astype(\n",
    "    str).apply(lambda x: x.isdigit() and len(x) == 5)\n",
    "mask_destination = ~flights_data['DESTINATION_AIRPORT'].astype(\n",
    "    str).apply(lambda x: x.isdigit() and len(x) == 5)\n",
    "\n",
    "# Combine the masks using a logical AND operation\n",
    "final_mask = mask_origin & mask_destination\n",
    "\n",
    "# Filter the DataFrame using the combined mask\n",
    "flights_data = flights_data[final_mask]"
   ]
  },
  {
   "cell_type": "markdown",
   "metadata": {},
   "source": [
    "### Step 2: Merge Datasets\n"
   ]
  },
  {
   "cell_type": "code",
   "execution_count": 125,
   "metadata": {},
   "outputs": [],
   "source": [
    "# Renaming columns in airports_data\n",
    "airports_data_origin = airports_data.rename(columns=lambda x: x + \"_ORIGIN\")\n",
    "airports_data_destination = airports_data.rename(\n",
    "    columns=lambda x: x + \"_DESTINATION\")\n",
    "\n",
    "# Merging with airlines\n",
    "flights_data = pd.merge(flights_data, airlines_data,\n",
    "                        left_on='AIRLINE', right_on='IATA_CODE', how='left')\n",
    "\n",
    "\n",
    "# Merging with airports for departure\n",
    "flights_data = pd.merge(flights_data, airports_data_origin,\n",
    "                        left_on='ORIGIN_AIRPORT', right_on='IATA_CODE_ORIGIN', how='left')\n",
    "\n",
    "# Merging with airports for destination\n",
    "flights_data = pd.merge(flights_data, airports_data_destination,\n",
    "                        left_on='DESTINATION_AIRPORT', right_on='IATA_CODE_DESTINATION', how='left')\n"
   ]
  },
  {
   "cell_type": "markdown",
   "metadata": {},
   "source": [
    "### Step 3: Data Preprocessing\n"
   ]
  },
  {
   "cell_type": "code",
   "execution_count": 126,
   "metadata": {},
   "outputs": [],
   "source": [
    "# You can drop or impute missing values based on your requirement\n",
    "# TODO: Check if any preprocessing is required for the data\n",
    "flights_data.dropna(subset=['DEPARTURE_DELAY', 'ARRIVAL_DELAY',\n",
    "                    'ORIGIN_AIRPORT', 'DESTINATION_AIRPORT'], inplace=True)"
   ]
  },
  {
   "cell_type": "markdown",
   "metadata": {},
   "source": [
    "### Step 4: Analyzing Departure Delays\n"
   ]
  },
  {
   "cell_type": "code",
   "execution_count": 127,
   "metadata": {},
   "outputs": [],
   "source": [
    "departure_delays = flights_data.groupby(\n",
    "    'ORIGIN_AIRPORT')['DEPARTURE_DELAY'].mean().reset_index()"
   ]
  },
  {
   "cell_type": "markdown",
   "metadata": {},
   "source": [
    "### Step 5: Analyzing Arrival Delays\n"
   ]
  },
  {
   "cell_type": "code",
   "execution_count": 128,
   "metadata": {},
   "outputs": [],
   "source": [
    "destination_delays = flights_data.groupby('DESTINATION_AIRPORT')[\n",
    "    'ARRIVAL_DELAY'].mean().reset_index()"
   ]
  },
  {
   "cell_type": "markdown",
   "metadata": {},
   "source": [
    "### Step 6: Statistical Analysis\n"
   ]
  },
  {
   "cell_type": "code",
   "execution_count": 129,
   "metadata": {},
   "outputs": [
    {
     "name": "stdout",
     "output_type": "stream",
     "text": [
      "T-statistic: 7.295061768883951\n",
      "P-value: 8.834125079117092e-13\n"
     ]
    }
   ],
   "source": [
    "t_stat, p_value = ttest_ind(\n",
    "    departure_delays['DEPARTURE_DELAY'], destination_delays['ARRIVAL_DELAY'])\n",
    "print(\"T-statistic:\", t_stat)\n",
    "print(\"P-value:\", p_value)"
   ]
  },
  {
   "cell_type": "code",
   "execution_count": 130,
   "metadata": {},
   "outputs": [
    {
     "name": "stdout",
     "output_type": "stream",
     "text": [
      "    ORIGIN_AIRPORT  DEPARTURE_DELAY\n",
      "0              ABE         8.687023\n",
      "1              ABI         5.747647\n",
      "2              ABQ         8.798552\n",
      "3              ABR        10.101056\n",
      "4              ABY         8.756351\n",
      "..             ...              ...\n",
      "317            WRG         2.953775\n",
      "318            WYS         1.375000\n",
      "319            XNA        11.810889\n",
      "320            YAK        -6.507692\n",
      "321            YUM         1.232470\n",
      "\n",
      "[322 rows x 2 columns]\n"
     ]
    }
   ],
   "source": [
    "# TODO: DELTE AFTER\n",
    "print(departure_delays)\n"
   ]
  },
  {
   "cell_type": "markdown",
   "metadata": {},
   "source": [
    "### Step 7: Visualization\n"
   ]
  },
  {
   "cell_type": "code",
   "execution_count": 131,
   "metadata": {},
   "outputs": [
    {
     "data": {
      "image/png": "[encoded data removed]",
      "text/plain": [
       "<Figure size 640x480 with 1 Axes>"
      ]
     },
     "metadata": {},
     "output_type": "display_data"
    }
   ],
   "source": [
    "plt.plot(departure_delays['DEPARTURE_DELAY'], label='Departure Delays')\n",
    "plt.plot(destination_delays['ARRIVAL_DELAY'], label='Destination Delays')\n",
    "plt.xlabel('Airport Index')  # X-axis label\n",
    "plt.ylabel('Mean Delay (minutes)')  # Y-axis label\n",
    "plt.legend()\n",
    "plt.show()\n"
   ]
  },
  {
   "cell_type": "markdown",
   "metadata": {},
   "source": [
    "### Step 8: Conclusion\n",
    "\n",
    "The low p-value (8.834125079117092e-13) provides strong evidence that there is a statistically significant difference between the means of the departure delays and arrival delays.\n"
   ]
  },
  {
   "cell_type": "markdown",
   "metadata": {},
   "source": [
    "## 2. Preprocessing data\n"
   ]
  },
  {
   "cell_type": "code",
   "execution_count": 132,
   "metadata": {},
   "outputs": [
    {
     "data": {
      "text/html": [
       "<div>\n",
       "<style scoped>\n",
       "    .dataframe tbody tr th:only-of-type {\n",
       "        vertical-align: middle;\n",
       "    }\n",
       "\n",
       "    .dataframe tbody tr th {\n",
       "        vertical-align: top;\n",
       "    }\n",
       "\n",
       "    .dataframe thead th {\n",
       "        text-align: right;\n",
       "    }\n",
       "</style>\n",
       "<table border=\"1\" class=\"dataframe\">\n",
       "  <thead>\n",
       "    <tr style=\"text-align: right;\">\n",
       "      <th></th>\n",
       "      <th>Missing Records</th>\n",
       "      <th>Percentage (%)</th>\n",
       "    </tr>\n",
       "  </thead>\n",
       "  <tbody>\n",
       "    <tr>\n",
       "      <th>YEAR</th>\n",
       "      <td>0</td>\n",
       "      <td>0.000000</td>\n",
       "    </tr>\n",
       "    <tr>\n",
       "      <th>MONTH</th>\n",
       "      <td>0</td>\n",
       "      <td>0.000000</td>\n",
       "    </tr>\n",
       "    <tr>\n",
       "      <th>DAY</th>\n",
       "      <td>0</td>\n",
       "      <td>0.000000</td>\n",
       "    </tr>\n",
       "    <tr>\n",
       "      <th>DAY_OF_WEEK</th>\n",
       "      <td>0</td>\n",
       "      <td>0.000000</td>\n",
       "    </tr>\n",
       "    <tr>\n",
       "      <th>AIRLINE</th>\n",
       "      <td>0</td>\n",
       "      <td>0.000000</td>\n",
       "    </tr>\n",
       "    <tr>\n",
       "      <th>FLIGHT_NUMBER</th>\n",
       "      <td>0</td>\n",
       "      <td>0.000000</td>\n",
       "    </tr>\n",
       "    <tr>\n",
       "      <th>TAIL_NUMBER</th>\n",
       "      <td>14721</td>\n",
       "      <td>0.252978</td>\n",
       "    </tr>\n",
       "    <tr>\n",
       "      <th>ORIGIN_AIRPORT</th>\n",
       "      <td>0</td>\n",
       "      <td>0.000000</td>\n",
       "    </tr>\n",
       "    <tr>\n",
       "      <th>DESTINATION_AIRPORT</th>\n",
       "      <td>0</td>\n",
       "      <td>0.000000</td>\n",
       "    </tr>\n",
       "    <tr>\n",
       "      <th>SCHEDULED_DEPARTURE</th>\n",
       "      <td>0</td>\n",
       "      <td>0.000000</td>\n",
       "    </tr>\n",
       "    <tr>\n",
       "      <th>DEPARTURE_TIME</th>\n",
       "      <td>86153</td>\n",
       "      <td>1.480526</td>\n",
       "    </tr>\n",
       "    <tr>\n",
       "      <th>DEPARTURE_DELAY</th>\n",
       "      <td>86153</td>\n",
       "      <td>1.480526</td>\n",
       "    </tr>\n",
       "    <tr>\n",
       "      <th>TAXI_OUT</th>\n",
       "      <td>89047</td>\n",
       "      <td>1.530259</td>\n",
       "    </tr>\n",
       "    <tr>\n",
       "      <th>WHEELS_OFF</th>\n",
       "      <td>89047</td>\n",
       "      <td>1.530259</td>\n",
       "    </tr>\n",
       "    <tr>\n",
       "      <th>SCHEDULED_TIME</th>\n",
       "      <td>6</td>\n",
       "      <td>0.000103</td>\n",
       "    </tr>\n",
       "    <tr>\n",
       "      <th>ELAPSED_TIME</th>\n",
       "      <td>105071</td>\n",
       "      <td>1.805629</td>\n",
       "    </tr>\n",
       "    <tr>\n",
       "      <th>AIR_TIME</th>\n",
       "      <td>105071</td>\n",
       "      <td>1.805629</td>\n",
       "    </tr>\n",
       "    <tr>\n",
       "      <th>DISTANCE</th>\n",
       "      <td>0</td>\n",
       "      <td>0.000000</td>\n",
       "    </tr>\n",
       "    <tr>\n",
       "      <th>WHEELS_ON</th>\n",
       "      <td>92513</td>\n",
       "      <td>1.589822</td>\n",
       "    </tr>\n",
       "    <tr>\n",
       "      <th>TAXI_IN</th>\n",
       "      <td>92513</td>\n",
       "      <td>1.589822</td>\n",
       "    </tr>\n",
       "    <tr>\n",
       "      <th>SCHEDULED_ARRIVAL</th>\n",
       "      <td>0</td>\n",
       "      <td>0.000000</td>\n",
       "    </tr>\n",
       "    <tr>\n",
       "      <th>ARRIVAL_TIME</th>\n",
       "      <td>92513</td>\n",
       "      <td>1.589822</td>\n",
       "    </tr>\n",
       "    <tr>\n",
       "      <th>ARRIVAL_DELAY</th>\n",
       "      <td>105071</td>\n",
       "      <td>1.805629</td>\n",
       "    </tr>\n",
       "    <tr>\n",
       "      <th>DIVERTED</th>\n",
       "      <td>0</td>\n",
       "      <td>0.000000</td>\n",
       "    </tr>\n",
       "    <tr>\n",
       "      <th>CANCELLED</th>\n",
       "      <td>0</td>\n",
       "      <td>0.000000</td>\n",
       "    </tr>\n",
       "    <tr>\n",
       "      <th>CANCELLATION_REASON</th>\n",
       "      <td>5729195</td>\n",
       "      <td>98.455357</td>\n",
       "    </tr>\n",
       "    <tr>\n",
       "      <th>AIR_SYSTEM_DELAY</th>\n",
       "      <td>4755640</td>\n",
       "      <td>81.724960</td>\n",
       "    </tr>\n",
       "    <tr>\n",
       "      <th>SECURITY_DELAY</th>\n",
       "      <td>4755640</td>\n",
       "      <td>81.724960</td>\n",
       "    </tr>\n",
       "    <tr>\n",
       "      <th>AIRLINE_DELAY</th>\n",
       "      <td>4755640</td>\n",
       "      <td>81.724960</td>\n",
       "    </tr>\n",
       "    <tr>\n",
       "      <th>LATE_AIRCRAFT_DELAY</th>\n",
       "      <td>4755640</td>\n",
       "      <td>81.724960</td>\n",
       "    </tr>\n",
       "    <tr>\n",
       "      <th>WEATHER_DELAY</th>\n",
       "      <td>4755640</td>\n",
       "      <td>81.724960</td>\n",
       "    </tr>\n",
       "  </tbody>\n",
       "</table>\n",
       "</div>"
      ],
      "text/plain": [
       "                     Missing Records  Percentage (%)\n",
       "YEAR                               0        0.000000\n",
       "MONTH                              0        0.000000\n",
       "DAY                                0        0.000000\n",
       "DAY_OF_WEEK                        0        0.000000\n",
       "AIRLINE                            0        0.000000\n",
       "FLIGHT_NUMBER                      0        0.000000\n",
       "TAIL_NUMBER                    14721        0.252978\n",
       "ORIGIN_AIRPORT                     0        0.000000\n",
       "DESTINATION_AIRPORT                0        0.000000\n",
       "SCHEDULED_DEPARTURE                0        0.000000\n",
       "DEPARTURE_TIME                 86153        1.480526\n",
       "DEPARTURE_DELAY                86153        1.480526\n",
       "TAXI_OUT                       89047        1.530259\n",
       "WHEELS_OFF                     89047        1.530259\n",
       "SCHEDULED_TIME                     6        0.000103\n",
       "ELAPSED_TIME                  105071        1.805629\n",
       "AIR_TIME                      105071        1.805629\n",
       "DISTANCE                           0        0.000000\n",
       "WHEELS_ON                      92513        1.589822\n",
       "TAXI_IN                        92513        1.589822\n",
       "SCHEDULED_ARRIVAL                  0        0.000000\n",
       "ARRIVAL_TIME                   92513        1.589822\n",
       "ARRIVAL_DELAY                 105071        1.805629\n",
       "DIVERTED                           0        0.000000\n",
       "CANCELLED                          0        0.000000\n",
       "CANCELLATION_REASON          5729195       98.455357\n",
       "AIR_SYSTEM_DELAY             4755640       81.724960\n",
       "SECURITY_DELAY               4755640       81.724960\n",
       "AIRLINE_DELAY                4755640       81.724960\n",
       "LATE_AIRCRAFT_DELAY          4755640       81.724960\n",
       "WEATHER_DELAY                4755640       81.724960"
      ]
     },
     "execution_count": 132,
     "metadata": {},
     "output_type": "execute_result"
    }
   ],
   "source": [
    "flights_data = original_data.copy()\n",
    "pd.concat([flights_data.isnull().sum(), 100 * flights_data.isnull().sum()/len(flights_data)],\n",
    "          axis=1).rename(columns={0: 'Missing Records', 1: 'Percentage (%)'})"
   ]
  },
  {
   "cell_type": "code",
   "execution_count": 133,
   "metadata": {},
   "outputs": [],
   "source": [
    "flights_data.drop(columns=['CANCELLATION_REASON', 'AIR_SYSTEM_DELAY', 'SECURITY_DELAY', 'AIRLINE_DELAY', 'LATE_AIRCRAFT_DELAY',\n",
    "                  'WEATHER_DELAY', 'YEAR', 'TAIL_NUMBER', 'ARRIVAL_TIME', 'ARRIVAL_DELAY', 'DIVERTED', 'CANCELLED', 'TAXI_IN', 'WHEELS_ON'], inplace=True)\n",
    "flights_data.dropna(inplace=True)\n"
   ]
  },
  {
   "cell_type": "code",
   "execution_count": 134,
   "metadata": {},
   "outputs": [
    {
     "name": "stdout",
     "output_type": "stream",
     "text": [
      "MONTH                    int64\n",
      "DAY                      int64\n",
      "DAY_OF_WEEK              int64\n",
      "AIRLINE                 object\n",
      "FLIGHT_NUMBER            int64\n",
      "ORIGIN_AIRPORT          object\n",
      "DESTINATION_AIRPORT     object\n",
      "SCHEDULED_DEPARTURE      int64\n",
      "DEPARTURE_TIME         float64\n",
      "DEPARTURE_DELAY        float64\n",
      "TAXI_OUT               float64\n",
      "WHEELS_OFF             float64\n",
      "SCHEDULED_TIME         float64\n",
      "ELAPSED_TIME           float64\n",
      "AIR_TIME               float64\n",
      "DISTANCE                 int64\n",
      "SCHEDULED_ARRIVAL        int64\n",
      "dtype: object\n",
      "Index(['AIRLINE', 'ORIGIN_AIRPORT', 'DESTINATION_AIRPORT'], dtype='object')\n"
     ]
    }
   ],
   "source": [
    "print(flights_data.dtypes)\n",
    "print(flights_data.select_dtypes(include=['object', 'category']).columns)"
   ]
  },
  {
   "cell_type": "code",
   "execution_count": 135,
   "metadata": {},
   "outputs": [],
   "source": [
    "# Convert categorical variables\n",
    "flights_data = pd.get_dummies(\n",
    "    flights_data, columns=['AIRLINE', 'ORIGIN_AIRPORT', 'DESTINATION_AIRPORT'])\n"
   ]
  },
  {
   "cell_type": "code",
   "execution_count": 136,
   "metadata": {},
   "outputs": [
    {
     "name": "stdout",
     "output_type": "stream",
     "text": [
      "MONTH\n",
      "1     457013\n",
      "2     407663\n",
      "3     492138\n",
      "4     479251\n",
      "5     489641\n",
      "6     492847\n",
      "7     514384\n",
      "8     503956\n",
      "9     462153\n",
      "10    482878\n",
      "11    462367\n",
      "12    469717\n",
      "dtype: int64\n"
     ]
    }
   ],
   "source": [
    "monthly_counts = flights_data.groupby('MONTH').size()\n",
    "print(monthly_counts)\n"
   ]
  },
  {
   "cell_type": "code",
   "execution_count": 137,
   "metadata": {},
   "outputs": [],
   "source": [
    "flights_data = flights_data[flights_data['MONTH'] == 6]\n"
   ]
  },
  {
   "cell_type": "markdown",
   "metadata": {},
   "source": [
    "## 3. Model 1 - Random Forest\n"
   ]
  },
  {
   "cell_type": "markdown",
   "metadata": {},
   "source": [
    "### Step 1: Import Necessary Libraries\n"
   ]
  },
  {
   "cell_type": "code",
   "execution_count": 138,
   "metadata": {},
   "outputs": [],
   "source": [
    "from sklearn.ensemble import RandomForestRegressor\n",
    "from sklearn.model_selection import train_test_split\n",
    "from sklearn.metrics import mean_squared_error\n",
    "from sklearn.impute import SimpleImputer"
   ]
  },
  {
   "cell_type": "markdown",
   "metadata": {},
   "source": [
    "### Step 2: Split the Data\n"
   ]
  },
  {
   "cell_type": "code",
   "execution_count": 139,
   "metadata": {},
   "outputs": [],
   "source": [
    "X = flights_data.drop('DEPARTURE_DELAY', axis=1)\n",
    "y = flights_data['DEPARTURE_DELAY']\n",
    "\n",
    "X_train, X_test, y_train, y_test = train_test_split(\n",
    "    X, y, test_size=0.2, random_state=42)"
   ]
  },
  {
   "cell_type": "markdown",
   "metadata": {},
   "source": [
    "### Step 3: Train a Random Forest Model\n"
   ]
  },
  {
   "cell_type": "code",
   "execution_count": 140,
   "metadata": {},
   "outputs": [
    {
     "data": {
      "text/html": [
       "<style>#sk-container-id-1 {color: black;background-color: white;}#sk-container-id-1 pre{padding: 0;}#sk-container-id-1 div.sk-toggleable {background-color: white;}#sk-container-id-1 label.sk-toggleable__label {cursor: pointer;display: block;width: 100%;margin-bottom: 0;padding: 0.3em;box-sizing: border-box;text-align: center;}#sk-container-id-1 label.sk-toggleable__label-arrow:before {content: \"▸\";float: left;margin-right: 0.25em;color: #696969;}#sk-container-id-1 label.sk-toggleable__label-arrow:hover:before {color: black;}#sk-container-id-1 div.sk-estimator:hover label.sk-toggleable__label-arrow:before {color: black;}#sk-container-id-1 div.sk-toggleable__content {max-height: 0;max-width: 0;overflow: hidden;text-align: left;background-color: #f0f8ff;}#sk-container-id-1 div.sk-toggleable__content pre {margin: 0.2em;color: black;border-radius: 0.25em;background-color: #f0f8ff;}#sk-container-id-1 input.sk-toggleable__control:checked~div.sk-toggleable__content {max-height: 200px;max-width: 100%;overflow: auto;}#sk-container-id-1 input.sk-toggleable__control:checked~label.sk-toggleable__label-arrow:before {content: \"▾\";}#sk-container-id-1 div.sk-estimator input.sk-toggleable__control:checked~label.sk-toggleable__label {background-color: #d4ebff;}#sk-container-id-1 div.sk-label input.sk-toggleable__control:checked~label.sk-toggleable__label {background-color: #d4ebff;}#sk-container-id-1 input.sk-hidden--visually {border: 0;clip: rect(1px 1px 1px 1px);clip: rect(1px, 1px, 1px, 1px);height: 1px;margin: -1px;overflow: hidden;padding: 0;position: absolute;width: 1px;}#sk-container-id-1 div.sk-estimator {font-family: monospace;background-color: #f0f8ff;border: 1px dotted black;border-radius: 0.25em;box-sizing: border-box;margin-bottom: 0.5em;}#sk-container-id-1 div.sk-estimator:hover {background-color: #d4ebff;}#sk-container-id-1 div.sk-parallel-item::after {content: \"\";width: 100%;border-bottom: 1px solid gray;flex-grow: 1;}#sk-container-id-1 div.sk-label:hover label.sk-toggleable__label {background-color: #d4ebff;}#sk-container-id-1 div.sk-serial::before {content: \"\";position: absolute;border-left: 1px solid gray;box-sizing: border-box;top: 0;bottom: 0;left: 50%;z-index: 0;}#sk-container-id-1 div.sk-serial {display: flex;flex-direction: column;align-items: center;background-color: white;padding-right: 0.2em;padding-left: 0.2em;position: relative;}#sk-container-id-1 div.sk-item {position: relative;z-index: 1;}#sk-container-id-1 div.sk-parallel {display: flex;align-items: stretch;justify-content: center;background-color: white;position: relative;}#sk-container-id-1 div.sk-item::before, #sk-container-id-1 div.sk-parallel-item::before {content: \"\";position: absolute;border-left: 1px solid gray;box-sizing: border-box;top: 0;bottom: 0;left: 50%;z-index: -1;}#sk-container-id-1 div.sk-parallel-item {display: flex;flex-direction: column;z-index: 1;position: relative;background-color: white;}#sk-container-id-1 div.sk-parallel-item:first-child::after {align-self: flex-end;width: 50%;}#sk-container-id-1 div.sk-parallel-item:last-child::after {align-self: flex-start;width: 50%;}#sk-container-id-1 div.sk-parallel-item:only-child::after {width: 0;}#sk-container-id-1 div.sk-dashed-wrapped {border: 1px dashed gray;margin: 0 0.4em 0.5em 0.4em;box-sizing: border-box;padding-bottom: 0.4em;background-color: white;}#sk-container-id-1 div.sk-label label {font-family: monospace;font-weight: bold;display: inline-block;line-height: 1.2em;}#sk-container-id-1 div.sk-label-container {text-align: center;}#sk-container-id-1 div.sk-container {/* jupyter's `normalize.less` sets `[hidden] { display: none; }` but bootstrap.min.css set `[hidden] { display: none !important; }` so we also need the `!important` here to be able to override the default hidden behavior on the sphinx rendered scikit-learn.org. See: https://github.com/scikit-learn/scikit-learn/issues/21755 */display: inline-block !important;position: relative;}#sk-container-id-1 div.sk-text-repr-fallback {display: none;}</style><div id=\"sk-container-id-1\" class=\"sk-top-container\"><div class=\"sk-text-repr-fallback\"><pre>RandomForestRegressor(random_state=42)</pre><b>In a Jupyter environment, please rerun this cell to show the HTML representation or trust the notebook. <br />On GitHub, the HTML representation is unable to render, please try loading this page with nbviewer.org.</b></div><div class=\"sk-container\" hidden><div class=\"sk-item\"><div class=\"sk-estimator sk-toggleable\"><input class=\"sk-toggleable__control sk-hidden--visually\" id=\"sk-estimator-id-1\" type=\"checkbox\" checked><label for=\"sk-estimator-id-1\" class=\"sk-toggleable__label sk-toggleable__label-arrow\">RandomForestRegressor</label><div class=\"sk-toggleable__content\"><pre>RandomForestRegressor(random_state=42)</pre></div></div></div></div></div>"
      ],
      "text/plain": [
       "RandomForestRegressor(random_state=42)"
      ]
     },
     "execution_count": 140,
     "metadata": {},
     "output_type": "execute_result"
    }
   ],
   "source": [
    "model = RandomForestRegressor(random_state=42)\n",
    "model.fit(X_train, y_train)\n"
   ]
  },
  {
   "cell_type": "markdown",
   "metadata": {},
   "source": [
    "### Step 4: Evaluate the Model\n"
   ]
  },
  {
   "cell_type": "code",
   "execution_count": 141,
   "metadata": {},
   "outputs": [
    {
     "name": "stdout",
     "output_type": "stream",
     "text": [
      "Mean Squared Error: 11.69463349092016\n"
     ]
    }
   ],
   "source": [
    "predictions = model.predict(X_test)\n",
    "mse = mean_squared_error(y_test, predictions)\n",
    "print(f\"Mean Squared Error: {mse}\")\n"
   ]
  },
  {
   "cell_type": "markdown",
   "metadata": {},
   "source": [
    "### Step 5: Feature Importance\n"
   ]
  },
  {
   "cell_type": "code",
   "execution_count": 142,
   "metadata": {},
   "outputs": [
    {
     "name": "stdout",
     "output_type": "stream",
     "text": [
      "                 feature  importance\n",
      "4    SCHEDULED_DEPARTURE    0.664501\n",
      "5         DEPARTURE_TIME    0.290023\n",
      "7             WHEELS_OFF    0.033905\n",
      "12     SCHEDULED_ARRIVAL    0.004059\n",
      "6               TAXI_OUT    0.000841\n",
      "13            AIRLINE_AA    0.000813\n",
      "9           ELAPSED_TIME    0.000770\n",
      "620   ORIGIN_AIRPORT_SMF    0.000645\n",
      "3          FLIGHT_NUMBER    0.000600\n",
      "10              AIR_TIME    0.000580\n"
     ]
    }
   ],
   "source": [
    "feature_importances = model.feature_importances_\n",
    "features = list(X_train.columns)\n",
    "importances_df = pd.DataFrame(\n",
    "    {'feature': features, 'importance': feature_importances})\n",
    "importances_df = importances_df.sort_values('importance', ascending=False)\n",
    "print(importances_df.head(10))"
   ]
  },
  {
   "cell_type": "markdown",
   "metadata": {},
   "source": [
    "## 4. Model 2 - TensorFlow and Keras\n"
   ]
  },
  {
   "cell_type": "markdown",
   "metadata": {},
   "source": [
    "### Step 1: Import Libraries"
   ]
  },
  {
   "cell_type": "code",
   "execution_count": 109,
   "metadata": {},
   "outputs": [],
   "source": [
    "import pandas as pd\n",
    "import numpy as np\n",
    "from sklearn.preprocessing import StandardScaler\n",
    "from sklearn.model_selection import train_test_split\n",
    "from tensorflow.keras.models import Sequential\n",
    "from tensorflow.keras.layers import Dense, Input, Dropout\n",
    "from tensorflow.keras import layers\n",
    "import tensorflow as tf"
   ]
  },
  {
   "cell_type": "markdown",
   "metadata": {},
   "source": [
    "### Step 2: Prepare Inputs and Targets"
   ]
  },
  {
   "cell_type": "code",
   "execution_count": 110,
   "metadata": {},
   "outputs": [],
   "source": [
    "# Scale the features\n",
    "scaler = StandardScaler()\n",
    "scaled_X_train = scaler.fit_transform(X_train)\n",
    "scaled_X_test = scaler.transform(X_test)"
   ]
  },
  {
   "cell_type": "markdown",
   "metadata": {},
   "source": [
    "### Step 3: Build the Neural Network"
   ]
  },
  {
   "cell_type": "code",
   "execution_count": 111,
   "metadata": {},
   "outputs": [
    {
     "name": "stdout",
     "output_type": "stream",
     "text": [
      "Epoch 1/50\n",
      "2465/2465 [==============================] - 7s 3ms/step - loss: 817.9706 - val_loss: 523.8538\n",
      "Epoch 2/50\n",
      "2465/2465 [==============================] - 6s 3ms/step - loss: 353.0123 - val_loss: 403.4455\n",
      "Epoch 3/50\n",
      "2465/2465 [==============================] - 6s 3ms/step - loss: 261.5017 - val_loss: 298.9360\n",
      "Epoch 4/50\n",
      "2465/2465 [==============================] - 6s 3ms/step - loss: 207.8082 - val_loss: 306.7600\n",
      "Epoch 5/50\n",
      "2465/2465 [==============================] - 6s 3ms/step - loss: 177.8772 - val_loss: 246.5689\n",
      "Epoch 6/50\n",
      "2465/2465 [==============================] - 6s 3ms/step - loss: 162.8739 - val_loss: 249.6037\n",
      "Epoch 7/50\n",
      "2465/2465 [==============================] - 7s 3ms/step - loss: 148.9854 - val_loss: 218.6389\n",
      "Epoch 8/50\n",
      "2465/2465 [==============================] - 6s 3ms/step - loss: 137.9295 - val_loss: 245.0453\n",
      "Epoch 9/50\n",
      "2465/2465 [==============================] - 6s 3ms/step - loss: 126.6744 - val_loss: 202.2493\n",
      "Epoch 10/50\n",
      "2465/2465 [==============================] - 6s 2ms/step - loss: 127.2248 - val_loss: 221.9707\n",
      "Epoch 11/50\n",
      "2465/2465 [==============================] - 6s 3ms/step - loss: 114.2971 - val_loss: 212.8229\n",
      "Epoch 12/50\n",
      "2465/2465 [==============================] - 6s 3ms/step - loss: 111.6283 - val_loss: 202.1755\n",
      "Epoch 13/50\n",
      "2465/2465 [==============================] - 6s 2ms/step - loss: 108.3000 - val_loss: 214.9543\n",
      "Epoch 14/50\n",
      "2465/2465 [==============================] - 6s 2ms/step - loss: 103.0432 - val_loss: 285.6469\n",
      "Epoch 15/50\n",
      "2465/2465 [==============================] - 6s 3ms/step - loss: 98.0400 - val_loss: 207.4175\n",
      "Epoch 16/50\n",
      "2465/2465 [==============================] - 6s 2ms/step - loss: 96.9785 - val_loss: 222.8257\n",
      "Epoch 17/50\n",
      "2465/2465 [==============================] - 6s 3ms/step - loss: 96.8597 - val_loss: 207.9258\n",
      "Epoch 18/50\n",
      "2465/2465 [==============================] - 6s 3ms/step - loss: 91.9434 - val_loss: 195.9317\n",
      "Epoch 19/50\n",
      "2465/2465 [==============================] - 6s 3ms/step - loss: 89.1581 - val_loss: 197.9931\n",
      "Epoch 20/50\n",
      "2465/2465 [==============================] - 6s 2ms/step - loss: 90.3395 - val_loss: 206.3930\n",
      "Epoch 21/50\n",
      "2465/2465 [==============================] - 6s 3ms/step - loss: 89.7070 - val_loss: 186.5810\n",
      "Epoch 22/50\n",
      "2465/2465 [==============================] - 6s 3ms/step - loss: 83.7551 - val_loss: 184.7630\n",
      "Epoch 23/50\n",
      "2465/2465 [==============================] - 6s 3ms/step - loss: 82.3504 - val_loss: 182.4222\n",
      "Epoch 24/50\n",
      "2465/2465 [==============================] - 6s 3ms/step - loss: 82.0696 - val_loss: 214.8055\n",
      "Epoch 25/50\n",
      "2465/2465 [==============================] - 6s 3ms/step - loss: 81.5075 - val_loss: 185.6477\n",
      "Epoch 26/50\n",
      "2465/2465 [==============================] - 6s 3ms/step - loss: 76.8349 - val_loss: 216.0296\n",
      "Epoch 27/50\n",
      "2465/2465 [==============================] - 6s 3ms/step - loss: 84.8085 - val_loss: 168.8038\n",
      "Epoch 28/50\n",
      "2465/2465 [==============================] - 6s 3ms/step - loss: 79.0410 - val_loss: 173.0545\n",
      "Epoch 29/50\n",
      "2465/2465 [==============================] - 6s 3ms/step - loss: 77.6722 - val_loss: 168.4435\n",
      "Epoch 30/50\n",
      "2465/2465 [==============================] - 6s 3ms/step - loss: 76.3230 - val_loss: 180.8763\n",
      "Epoch 31/50\n",
      "2465/2465 [==============================] - 6s 3ms/step - loss: 74.5075 - val_loss: 172.5438\n",
      "Epoch 32/50\n",
      "2465/2465 [==============================] - 6s 3ms/step - loss: 73.5241 - val_loss: 170.3866\n",
      "Epoch 33/50\n",
      "2465/2465 [==============================] - 6s 3ms/step - loss: 77.3770 - val_loss: 177.7578\n",
      "Epoch 34/50\n",
      "2465/2465 [==============================] - 6s 3ms/step - loss: 74.9781 - val_loss: 174.5806\n",
      "Epoch 35/50\n",
      "2465/2465 [==============================] - 6s 3ms/step - loss: 75.0919 - val_loss: 171.4296\n",
      "Epoch 36/50\n",
      "2465/2465 [==============================] - 6s 2ms/step - loss: 68.9873 - val_loss: 189.6980\n",
      "Epoch 37/50\n",
      "2465/2465 [==============================] - 6s 3ms/step - loss: 68.8581 - val_loss: 165.9861\n",
      "Epoch 38/50\n",
      "2465/2465 [==============================] - 6s 3ms/step - loss: 70.6849 - val_loss: 253.0591\n",
      "Epoch 39/50\n",
      "2465/2465 [==============================] - 6s 2ms/step - loss: 71.7200 - val_loss: 174.5181\n",
      "Epoch 40/50\n",
      "2465/2465 [==============================] - 6s 3ms/step - loss: 66.2989 - val_loss: 172.8694\n",
      "Epoch 41/50\n",
      "2465/2465 [==============================] - 6s 3ms/step - loss: 66.2614 - val_loss: 163.5488\n",
      "Epoch 42/50\n",
      "2465/2465 [==============================] - 6s 2ms/step - loss: 68.6570 - val_loss: 171.3411\n",
      "Epoch 43/50\n",
      "2465/2465 [==============================] - 6s 3ms/step - loss: 65.8357 - val_loss: 165.5257\n",
      "Epoch 44/50\n",
      "2465/2465 [==============================] - 6s 3ms/step - loss: 64.5656 - val_loss: 166.1253\n",
      "Epoch 45/50\n",
      "2465/2465 [==============================] - 6s 3ms/step - loss: 67.2298 - val_loss: 170.1649\n",
      "Epoch 46/50\n",
      "2465/2465 [==============================] - 6s 3ms/step - loss: 71.5779 - val_loss: 176.5034\n",
      "Epoch 47/50\n",
      "2465/2465 [==============================] - 6s 3ms/step - loss: 62.0903 - val_loss: 163.1894\n",
      "Epoch 48/50\n",
      "2465/2465 [==============================] - 6s 3ms/step - loss: 64.9236 - val_loss: 185.2499\n",
      "Epoch 49/50\n",
      "2465/2465 [==============================] - 6s 3ms/step - loss: 65.4021 - val_loss: 175.3321\n",
      "Epoch 50/50\n",
      "2465/2465 [==============================] - 6s 3ms/step - loss: 62.3737 - val_loss: 162.2645\n"
     ]
    }
   ],
   "source": [
    "model = tf.keras.Sequential([\n",
    "    Input(shape=(scaled_X_train.shape[1],)),  # Input layer\n",
    "    Dense(256, activation='relu'),  # Hidden layer with ReLU activation\n",
    "    Dense(128, activation='relu'),  # Another hidden layer\n",
    "    Dense(64, activation='relu'),  # Another hidden layer\n",
    "    Dense(32, activation='relu'),  # Another hidden layer\n",
    "    Dense(1)  # Output layer (for regression)\n",
    "])\n",
    "\n",
    "# Compile the model\n",
    "model.compile(optimizer='adam', loss='mean_squared_error')\n",
    "\n",
    "# Train the model\n",
    "history = model.fit(scaled_X_train, y_train, epochs=50,\n",
    "                    batch_size=128, validation_split=0.2)\n"
   ]
  },
  {
   "cell_type": "markdown",
   "metadata": {},
   "source": [
    "### Step 4: Evaluate the Model"
   ]
  },
  {
   "cell_type": "code",
   "execution_count": 119,
   "metadata": {},
   "outputs": [
    {
     "name": "stdout",
     "output_type": "stream",
     "text": [
      "3081/3081 [==============================] - 2s 538us/step\n",
      "3081/3081 [==============================] - 2s 575us/step - loss: 115.4777\n",
      "Range of DEPARTURE_DELAY: 1574.0\n",
      "Standard Deviation of DEPARTURE_DELAY: 43.05389236264149\n",
      "Variance of DEPARTURE_DELAY: 1853.6376475739196\n",
      "The mean squared error of the predictions is: 115.4774491076065\n",
      "Test Loss: 115.47766876220703\n"
     ]
    }
   ],
   "source": [
    "# Evaluate the model on the test set\n",
    "# Calculate the range of DEPARTURE_DELAY\n",
    "departure_delay_range = y.max() - y.min()\n",
    "\n",
    "# Calculate the standard deviation of DEPARTURE_DELAY\n",
    "departure_delay_std = y.std()\n",
    "dl_predictions = model.predict(scaled_X_test)\n",
    "dl_mse = mean_squared_error(y_test, dl_predictions)\n",
    "variance_of_target = y.var()\n",
    "loss = model.evaluate(scaled_X_test, y_test)\n",
    "print(f\"Range of DEPARTURE_DELAY: {departure_delay_range}\")\n",
    "print(f\"Standard Deviation of DEPARTURE_DELAY: {departure_delay_std}\")\n",
    "print(f\"Variance of DEPARTURE_DELAY: {variance_of_target}\")\n",
    "print(\"The mean squared error of the predictions is:\", dl_mse)\n",
    "print(f'Test Loss: {loss}')\n"
   ]
  },
  {
   "cell_type": "markdown",
   "metadata": {},
   "source": [
    "### Step 5: Plotting Train, Test, and Validation Graphs:"
   ]
  },
  {
   "cell_type": "code",
   "execution_count": 113,
   "metadata": {},
   "outputs": [
    {
     "data": {
      "image/png": "[encoded data removed]",
      "text/plain": [
       "<Figure size 1000x600 with 1 Axes>"
      ]
     },
     "metadata": {},
     "output_type": "display_data"
    }
   ],
   "source": [
    "# Plotting the training and validation loss\n",
    "plt.figure(figsize=(10, 6))\n",
    "plt.plot(history.history['loss'])\n",
    "plt.plot(history.history['val_loss'])\n",
    "plt.title('Model loss')\n",
    "plt.ylabel('Loss')\n",
    "plt.xlabel('Epoch')\n",
    "plt.legend(['Train', 'Validation'], loc='upper right')\n",
    "plt.show()\n"
   ]
  },
  {
   "cell_type": "code",
   "execution_count": 115,
   "metadata": {},
   "outputs": [
    {
     "data": {
      "image/png": "[encoded data removed]",
      "text/plain": [
       "<Figure size 640x480 with 1 Axes>"
      ]
     },
     "metadata": {},
     "output_type": "display_data"
    }
   ],
   "source": [
    "plt.scatter(y_test, dl_predictions, alpha=0.5)\n",
    "plt.plot([y_test.min(), y_test.max()], [y_test.min(), y_test.max()], 'k--', lw=2)\n",
    "plt.xlabel('Actual')\n",
    "plt.ylabel('Predicted')\n",
    "plt.title('Actual vs Predicted')\n",
    "plt.show()"
   ]
  },
  {
   "cell_type": "markdown",
   "metadata": {},
   "source": [
    "### Step 5: Feature Importance Analysis"
   ]
  },
  {
   "cell_type": "code",
   "execution_count": 114,
   "metadata": {},
   "outputs": [],
   "source": [
    "# # Create a SHAP explainer object\n",
    "# import shap\n",
    "# explainer = shap.DeepExplainer(model, X_train)\n",
    "\n",
    "# # Compute SHAP values for a subset of the test data\n",
    "# shap_values = explainer.shap_values(X_test[:1000])  # Example with the first 1000 test samples\n",
    "\n",
    "# # Plot the SHAP values for the first prediction\n",
    "# shap.initjs() # Necessary for visualizing in Jupyter\n",
    "# shap.force_plot(explainer.expected_value[0], shap_values[0][0], X_test[0])"
   ]
  }
 ],
 "metadata": {
  "kernelspec": {
   "display_name": "Python 3",
   "language": "python",
   "name": "python3"
  },
  "language_info": {
   "codemirror_mode": {
    "name": "ipython",
    "version": 3
   },
   "file_extension": ".py",
   "mimetype": "text/x-python",
   "name": "python",
   "nbconvert_exporter": "python",
   "pygments_lexer": "ipython3",
   "version": "3.10.12"
  },
  "orig_nbformat": 4
 },
 "nbformat": 4,
 "nbformat_minor": 2
}
