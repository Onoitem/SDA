{
 "cells": [
  {
   "cell_type": "markdown",
   "metadata": {},
   "source": [
    "# Do delays depend more on the destination or the departure?"
   ]
  },
  {
   "cell_type": "markdown",
   "metadata": {},
   "source": [
    "### Step 1: Load the Datasets"
   ]
  },
  {
   "cell_type": "code",
   "execution_count": 42,
   "metadata": {},
   "outputs": [],
   "source": [
    "import pandas as pd\n",
    "from scipy.stats import ttest_ind\n",
    "import matplotlib.pyplot as plt\n",
    "\n",
    "original_data = pd.read_csv('../flights.csv', low_memory=False)\n",
    "airlines_data = pd.read_csv('../airlines.csv', low_memory=False)\n",
    "airports_data = pd.read_csv('../airports.csv', low_memory=False)"
   ]
  },
  {
   "cell_type": "code",
   "execution_count": 43,
   "metadata": {},
   "outputs": [],
   "source": [
    "flights_data = original_data.copy()"
   ]
  },
  {
   "cell_type": "code",
   "execution_count": 44,
   "metadata": {},
   "outputs": [
    {
     "data": {
      "text/html": [
       "<div>\n",
       "<style scoped>\n",
       "    .dataframe tbody tr th:only-of-type {\n",
       "        vertical-align: middle;\n",
       "    }\n",
       "\n",
       "    .dataframe tbody tr th {\n",
       "        vertical-align: top;\n",
       "    }\n",
       "\n",
       "    .dataframe thead th {\n",
       "        text-align: right;\n",
       "    }\n",
       "</style>\n",
       "<table border=\"1\" class=\"dataframe\">\n",
       "  <thead>\n",
       "    <tr style=\"text-align: right;\">\n",
       "      <th></th>\n",
       "      <th>ORIGIN_AIRPORT</th>\n",
       "      <th>DEPARTURE_DELAY</th>\n",
       "    </tr>\n",
       "  </thead>\n",
       "  <tbody>\n",
       "    <tr>\n",
       "      <th>234</th>\n",
       "      <td>14222</td>\n",
       "      <td>89.111111</td>\n",
       "    </tr>\n",
       "    <tr>\n",
       "      <th>460</th>\n",
       "      <td>ILG</td>\n",
       "      <td>29.391753</td>\n",
       "    </tr>\n",
       "    <tr>\n",
       "      <th>219</th>\n",
       "      <td>13964</td>\n",
       "      <td>28.843750</td>\n",
       "    </tr>\n",
       "    <tr>\n",
       "      <th>525</th>\n",
       "      <td>MVY</td>\n",
       "      <td>25.907317</td>\n",
       "    </tr>\n",
       "    <tr>\n",
       "      <th>453</th>\n",
       "      <td>HYA</td>\n",
       "      <td>23.182927</td>\n",
       "    </tr>\n",
       "    <tr>\n",
       "      <th>5</th>\n",
       "      <td>10154</td>\n",
       "      <td>22.857143</td>\n",
       "    </tr>\n",
       "    <tr>\n",
       "      <th>29</th>\n",
       "      <td>10581</td>\n",
       "      <td>20.111111</td>\n",
       "    </tr>\n",
       "    <tr>\n",
       "      <th>599</th>\n",
       "      <td>STC</td>\n",
       "      <td>18.692308</td>\n",
       "    </tr>\n",
       "    <tr>\n",
       "      <th>537</th>\n",
       "      <td>OTH</td>\n",
       "      <td>17.777358</td>\n",
       "    </tr>\n",
       "    <tr>\n",
       "      <th>325</th>\n",
       "      <td>ASE</td>\n",
       "      <td>17.587538</td>\n",
       "    </tr>\n",
       "  </tbody>\n",
       "</table>\n",
       "</div>"
      ],
      "text/plain": [
       "    ORIGIN_AIRPORT  DEPARTURE_DELAY\n",
       "234          14222        89.111111\n",
       "460            ILG        29.391753\n",
       "219          13964        28.843750\n",
       "525            MVY        25.907317\n",
       "453            HYA        23.182927\n",
       "5            10154        22.857143\n",
       "29           10581        20.111111\n",
       "599            STC        18.692308\n",
       "537            OTH        17.777358\n",
       "325            ASE        17.587538"
      ]
     },
     "execution_count": 44,
     "metadata": {},
     "output_type": "execute_result"
    }
   ],
   "source": [
    "result = flights_data.groupby(['ORIGIN_AIRPORT'])['DEPARTURE_DELAY'].mean().reset_index()\n",
    "result = result.sort_values(by='DEPARTURE_DELAY', ascending=False)\n",
    "result = result.head(10)\n",
    "result\n"
   ]
  },
  {
   "cell_type": "code",
   "execution_count": 45,
   "metadata": {},
   "outputs": [
    {
     "data": {
      "text/html": [
       "<div>\n",
       "<style scoped>\n",
       "    .dataframe tbody tr th:only-of-type {\n",
       "        vertical-align: middle;\n",
       "    }\n",
       "\n",
       "    .dataframe tbody tr th {\n",
       "        vertical-align: top;\n",
       "    }\n",
       "\n",
       "    .dataframe thead th {\n",
       "        text-align: right;\n",
       "    }\n",
       "</style>\n",
       "<table border=\"1\" class=\"dataframe\">\n",
       "  <thead>\n",
       "    <tr style=\"text-align: right;\">\n",
       "      <th></th>\n",
       "      <th>DESTINATION_AIRPORT</th>\n",
       "      <th>ARRIVAL_DELAY</th>\n",
       "    </tr>\n",
       "  </thead>\n",
       "  <tbody>\n",
       "    <tr>\n",
       "      <th>220</th>\n",
       "      <td>13964</td>\n",
       "      <td>26.906250</td>\n",
       "    </tr>\n",
       "    <tr>\n",
       "      <th>600</th>\n",
       "      <td>STC</td>\n",
       "      <td>23.025974</td>\n",
       "    </tr>\n",
       "    <tr>\n",
       "      <th>461</th>\n",
       "      <td>ILG</td>\n",
       "      <td>21.989474</td>\n",
       "    </tr>\n",
       "    <tr>\n",
       "      <th>223</th>\n",
       "      <td>14025</td>\n",
       "      <td>18.000000</td>\n",
       "    </tr>\n",
       "    <tr>\n",
       "      <th>612</th>\n",
       "      <td>TTN</td>\n",
       "      <td>17.433901</td>\n",
       "    </tr>\n",
       "    <tr>\n",
       "      <th>444</th>\n",
       "      <td>GUM</td>\n",
       "      <td>17.320242</td>\n",
       "    </tr>\n",
       "    <tr>\n",
       "      <th>538</th>\n",
       "      <td>OTH</td>\n",
       "      <td>16.740602</td>\n",
       "    </tr>\n",
       "    <tr>\n",
       "      <th>519</th>\n",
       "      <td>MQT</td>\n",
       "      <td>16.152027</td>\n",
       "    </tr>\n",
       "    <tr>\n",
       "      <th>326</th>\n",
       "      <td>ASE</td>\n",
       "      <td>15.829448</td>\n",
       "    </tr>\n",
       "    <tr>\n",
       "      <th>541</th>\n",
       "      <td>PBG</td>\n",
       "      <td>15.288256</td>\n",
       "    </tr>\n",
       "  </tbody>\n",
       "</table>\n",
       "</div>"
      ],
      "text/plain": [
       "    DESTINATION_AIRPORT  ARRIVAL_DELAY\n",
       "220               13964      26.906250\n",
       "600                 STC      23.025974\n",
       "461                 ILG      21.989474\n",
       "223               14025      18.000000\n",
       "612                 TTN      17.433901\n",
       "444                 GUM      17.320242\n",
       "538                 OTH      16.740602\n",
       "519                 MQT      16.152027\n",
       "326                 ASE      15.829448\n",
       "541                 PBG      15.288256"
      ]
     },
     "execution_count": 45,
     "metadata": {},
     "output_type": "execute_result"
    }
   ],
   "source": [
    "result = flights_data.groupby(['DESTINATION_AIRPORT'])['ARRIVAL_DELAY'].mean().reset_index()\n",
    "result = result.sort_values(by='ARRIVAL_DELAY', ascending=False)\n",
    "result = result.head(10)\n",
    "result"
   ]
  },
  {
   "cell_type": "code",
   "execution_count": 46,
   "metadata": {},
   "outputs": [
    {
     "name": "stderr",
     "output_type": "stream",
     "text": [
      "/var/folders/jk/9s_9_h9529ncq9f1q4h5rc580000gn/T/ipykernel_27630/4271785296.py:7: UserWarning: Boolean Series key will be reindexed to match DataFrame index.\n",
      "  flights_data = flights_data[mask2]\n"
     ]
    }
   ],
   "source": [
    "# Create a mask to identify rows with 5-digit numbers in the \"AIRPORT\" column\n",
    "mask = ~flights_data['ORIGIN_AIRPORT'].astype(str).apply(lambda x: x.isdigit() and len(x) == 5)\n",
    "mask2 = ~flights_data['DESTINATION_AIRPORT'].astype(str).apply(lambda x: x.isdigit() and len(x) == 5)\n",
    "\n",
    "# Filter the DataFrame using the mask to exclude rows with 5-digit numbers\n",
    "flights_data = flights_data[mask]\n",
    "flights_data = flights_data[mask2]"
   ]
  },
  {
   "cell_type": "code",
   "execution_count": 47,
   "metadata": {},
   "outputs": [
    {
     "name": "stdout",
     "output_type": "stream",
     "text": [
      "['ANC' 'LAX' 'SFO' 'SEA' 'LAS' 'DEN' 'SLC' 'PDX' 'FAI' 'MSP' 'PHX' 'SJU'\n",
      " 'PBG' 'IAG' 'PSE' 'BQN' 'ORD' 'GEG' 'HNL' 'ONT' 'MCO' 'BOS' 'HIB' 'ABR'\n",
      " 'MAF' 'DFW' 'MKE' 'IAH' 'BNA' 'BRO' 'VPS' 'BOI' 'BJI' 'SGF' 'PHL' 'SBN'\n",
      " 'RDD' 'EUG' 'IAD' 'BUF' 'PWM' 'JFK' 'CRP' 'PIA' 'FAT' 'SMF' 'AUS' 'MCI'\n",
      " 'ATL' 'JAX' 'MFR' 'IDA' 'MSN' 'DCA' 'SAT' 'CHS' 'SBA' 'SMX' 'IND' 'CLE'\n",
      " 'GSP' 'BDL' 'ABI' 'RIC' 'BFL' 'OMA' 'RDM' 'FLL' 'CID' 'TPA' 'SYR' 'ROC'\n",
      " 'TYR' 'LAN' 'XNA' 'GSO' 'EWR' 'PBI' 'RSW' 'OAK' 'PVD' 'RNO' 'PIT' 'ABQ'\n",
      " 'MIA' 'BWI' 'LGA' 'TUL' 'LIT' 'MSY' 'OKC' 'ATW' 'PNS' 'MEM' 'TYS' 'MHT'\n",
      " 'SAV' 'CLT' 'GRB' 'ABE' 'JAN' 'OAJ' 'FAR' 'ERI' 'LEX' 'CWA' 'MSO' 'TTN'\n",
      " 'AMA' 'CLL' 'HOU' 'JLN' 'MLI' 'RDU' 'CVG' 'MHK' 'MOB' 'TLH' 'BHM' 'CAE'\n",
      " 'TXK' 'ACY' 'DTW' 'RAP' 'TUS' 'EAU' 'DLH' 'FSD' 'INL' 'CMX' 'SPI' 'CLD'\n",
      " 'COD' 'CMH' 'LRD' 'PSC' 'CPR' 'ACV' 'DAL' 'PAH' 'MRY' 'ESC' 'ISN' 'PSP'\n",
      " 'MFE' 'STL' 'BTV' 'FSM' 'AEX' 'SPS' 'ACT' 'SJT' 'MTJ' 'GCC' 'OGG' 'SJC'\n",
      " 'GUC' 'ORF' 'MOT' 'MLU' 'KOA' 'SAN' 'LAW' 'PIB' 'MGM' 'SBP' 'COS' 'LAR'\n",
      " 'DRO' 'BIS' 'ITO' 'BTR' 'GRI' 'HLN' 'BZN' 'MDW' 'MDT' 'SCE' 'LIH' 'TWF'\n",
      " 'BPT' 'GPT' 'STC' 'HPN' 'MLB' 'PLN' 'CIU' 'CAK' 'DSM' 'BLI' 'SHV' 'ROW'\n",
      " 'FWA' 'SNA' 'ALB' 'HOB' 'LNK' 'CMI' 'COU' 'GTF' 'EKO' 'LGB' 'AVL' 'HSV'\n",
      " 'SAF' 'GRR' 'SUX' 'LFT' 'HYS' 'ELP' 'DVL' 'ISP' 'BUR' 'DAB' 'DAY' 'GRK'\n",
      " 'GJT' 'BMI' 'LBE' 'ASE' 'RKS' 'GUM' 'TVC' 'ALO' 'IMT' 'LCH' 'JNU' 'JAC'\n",
      " 'MEI' 'DBQ' 'GCK' 'GNV' 'BRD' 'DIK' 'SDF' 'LBB' 'AVP' 'BTM' 'ELM' 'PIH'\n",
      " 'ICT' 'SUN' 'LWS' 'VEL' 'STT' 'YUM' 'FLG' 'FCA' 'HDN' 'JMS' 'ROA' 'CHA'\n",
      " 'EYW' 'MYR' 'CRW' 'MQT' 'CHO' 'ECP' 'EVV' 'EGE' 'MBS' 'GFK' 'TOL' 'BIL'\n",
      " 'OTZ' 'KTN' 'STX' 'ILM' 'PUB' 'RHI' 'CDC' 'HRL' 'SCC' 'FNT' 'LSE' 'MMH'\n",
      " 'APN' 'AGS' 'CEC' 'DHN' 'WRG' 'PHF' 'CNY' 'BRW' 'GGG' 'AZO' 'SRQ' 'ORH'\n",
      " 'TRI' 'VLD' 'SIT' 'BQK' 'PSG' 'FAY' 'MKG' 'CSG' 'EWN' 'OME' 'SGU' 'RST'\n",
      " 'GTR' 'BET' 'ABY' 'SWF' 'ILG' 'ADK' 'UST' 'YAK' 'CDV' 'OTH' 'ADQ' 'PPG'\n",
      " 'BGM' 'BGR' 'ITH' 'ACK' 'MVY' 'WYS' 'DLG' 'AKN' 'GST' 'HYA']\n"
     ]
    }
   ],
   "source": [
    "print(flights_data['ORIGIN_AIRPORT'].unique())\n"
   ]
  },
  {
   "cell_type": "markdown",
   "metadata": {},
   "source": [
    "### Step 2: Merge Datasets"
   ]
  },
  {
   "cell_type": "code",
   "execution_count": 48,
   "metadata": {},
   "outputs": [],
   "source": [
    "# Renaming columns in airports_data\n",
    "airports_data_origin = airports_data.rename(columns=lambda x: x + \"_ORIGIN\")\n",
    "airports_data_destination = airports_data.rename(\n",
    "    columns=lambda x: x + \"_DESTINATION\")\n",
    "\n",
    "# Merging with airlines\n",
    "flights_data = pd.merge(flights_data, airlines_data,\n",
    "                        left_on='AIRLINE', right_on='IATA_CODE', how='left')\n",
    "\n",
    "\n",
    "# Merging with airports for departure\n",
    "flights_data = pd.merge(flights_data, airports_data_origin,\n",
    "                        left_on='ORIGIN_AIRPORT', right_on='IATA_CODE_ORIGIN', how='left')\n",
    "\n",
    "# Merging with airports for destination\n",
    "flights_data = pd.merge(flights_data, airports_data_destination,\n",
    "                        left_on='DESTINATION_AIRPORT', right_on='IATA_CODE_DESTINATION', how='left')"
   ]
  },
  {
   "cell_type": "markdown",
   "metadata": {},
   "source": [
    "### Step 3: Data Preprocessing"
   ]
  },
  {
   "cell_type": "code",
   "execution_count": 49,
   "metadata": {},
   "outputs": [
    {
     "name": "stdout",
     "output_type": "stream",
     "text": [
      "['ANC' 'LAX' 'SFO' 'SEA' 'LAS' 'DEN' 'SLC' 'PDX' 'FAI' 'MSP' 'PHX' 'SJU'\n",
      " 'PBG' 'IAG' 'PSE' 'BQN' 'ORD' 'GEG' 'HNL' 'ONT' 'MCO' 'BOS' 'HIB' 'ABR'\n",
      " 'DFW' 'MKE' 'IAH' 'BNA' 'BRO' 'VPS' 'BOI' 'BJI' 'PHL' 'SBN' 'EUG' 'IAD'\n",
      " 'BUF' 'PWM' 'JFK' 'CRP' 'PIA' 'FAT' 'SMF' 'AUS' 'MCI' 'ATL' 'JAX' 'MFR'\n",
      " 'IDA' 'MSN' 'DCA' 'SAT' 'CHS' 'SBA' 'IND' 'CLE' 'GSP' 'BDL' 'RIC' 'BFL'\n",
      " 'OMA' 'RDM' 'FLL' 'CID' 'TPA' 'SYR' 'ROC' 'TYR' 'LAN' 'GSO' 'EWR' 'PBI'\n",
      " 'RSW' 'OAK' 'PVD' 'RNO' 'PIT' 'ABQ' 'MIA' 'BWI' 'TUL' 'LGA' 'LIT' 'MSY'\n",
      " 'OKC' 'ATW' 'PNS' 'MEM' 'TYS' 'MHT' 'SAV' 'CLT' 'GRB' 'ABE' 'JAN' 'OAJ'\n",
      " 'FAR' 'ERI' 'LEX' 'CWA' 'TTN' 'RDU' 'CVG' 'BHM' 'ACY' 'DTW' 'RAP' 'TUS'\n",
      " 'EAU' 'DLH' 'FSD' 'INL' 'SPI' 'CLD' 'COD' 'CMH' 'PSC' 'CPR' 'ACV' 'DAL'\n",
      " 'PAH' 'MRY' 'ESC' 'ISN' 'PSP' 'CAE' 'STL' 'BTV' 'MTJ' 'GCC' 'OGG' 'SJC'\n",
      " 'GUC' 'ORF' 'MOT' 'MLU' 'KOA' 'HOU' 'MOB' 'SAN' 'LAW' 'PIB' 'MGM' 'SBP'\n",
      " 'COS' 'LAR' 'DRO' 'BIS' 'ITO' 'BTR' 'HLN' 'BZN' 'MDW' 'MDT' 'SCE' 'LIH'\n",
      " 'TWF' 'BPT' 'GPT' 'STC' 'HPN' 'MLB' 'PLN' 'CIU' 'CAK' 'DSM' 'BLI' 'SHV'\n",
      " 'SNA' 'ALB' 'LNK' 'CMI' 'GTF' 'EKO' 'LGB' 'AVL' 'HSV' 'XNA' 'SUX' 'HYS'\n",
      " 'MFE' 'ISP' 'BUR' 'DAB' 'DAY' 'LFT' 'LBE' 'ASE' 'GUM' 'TVC' 'ALO' 'TLH'\n",
      " 'ELP' 'MHK' 'IMT' 'JNU' 'JAC' 'MEI' 'DBQ' 'GNV' 'BRD' 'DIK' 'SDF' 'LBB'\n",
      " 'AVP' 'SGF' 'COU' 'BTM' 'ELM' 'RKS' 'PIH' 'SUN' 'LWS' 'VEL' 'STT' 'SAF'\n",
      " 'YUM' 'FCA' 'GRR' 'HDN' 'ROA' 'CHA' 'EYW' 'MYR' 'CRW' 'MQT' 'CHO' 'GJT'\n",
      " 'FWA' 'ECP' 'EVV' 'MSO' 'EGE' 'AMA' 'MLI' 'MBS' 'GFK' 'GRK' 'BIL' 'OTZ'\n",
      " 'KTN' 'STX' 'ILM' 'PUB' 'RHI' 'CDC' 'HRL' 'SCC' 'FNT' 'LSE' 'MMH' 'ACT'\n",
      " 'FSM' 'AGS' 'CEC' 'ICT' 'AEX' 'DHN' 'LRD' 'WRG' 'PHF' 'CNY' 'BRW' 'GGG'\n",
      " 'AZO' 'CLL' 'SRQ' 'ORH' 'FLG' 'TRI' 'VLD' 'SIT' 'BQK' 'BMI' 'PSG' 'FAY'\n",
      " 'MKG' 'CSG' 'MAF' 'EWN' 'OME' 'CMX' 'JMS' 'SGU' 'RST' 'GTR' 'BET' 'TOL'\n",
      " 'APN' 'SMX' 'LCH' 'RDD' 'GCK' 'DVL' 'GRI' 'ABY' 'SWF' 'ILG' 'JLN' 'ADK'\n",
      " 'UST' 'TXK' 'SPS' 'ABI' 'YAK' 'SJT' 'CDV' 'OTH' 'ADQ' 'PPG' 'ROW' 'HOB'\n",
      " 'BGM' 'BGR' 'ITH' 'ACK' 'MVY' 'WYS' 'DLG' 'AKN' 'GST' 'HYA']\n"
     ]
    }
   ],
   "source": [
    "# You can drop or impute missing values based on your requirement\n",
    "# TODO: Check if any preprocessing is required for the data\n",
    "flights_data.dropna(subset=['DEPARTURE_DELAY', 'ARRIVAL_DELAY', 'ORIGIN_AIRPORT', 'DESTINATION_AIRPORT'], inplace=True)\n",
    "print(flights_data['ORIGIN_AIRPORT'].unique())\n"
   ]
  },
  {
   "cell_type": "markdown",
   "metadata": {},
   "source": [
    "### Step 4: Analyzing Departure Delays"
   ]
  },
  {
   "cell_type": "code",
   "execution_count": 51,
   "metadata": {},
   "outputs": [],
   "source": [
    "departure_delays = flights_data.groupby('ORIGIN_AIRPORT')['DEPARTURE_DELAY'].mean().reset_index()"
   ]
  },
  {
   "cell_type": "markdown",
   "metadata": {},
   "source": [
    "### Step 5: Analyzing Arrival Delays"
   ]
  },
  {
   "cell_type": "code",
   "execution_count": 52,
   "metadata": {},
   "outputs": [],
   "source": [
    "destination_delays = flights_data.groupby('DESTINATION_AIRPORT')['ARRIVAL_DELAY'].mean().reset_index()"
   ]
  },
  {
   "cell_type": "markdown",
   "metadata": {},
   "source": [
    "### Step 6: Statistical Analysis"
   ]
  },
  {
   "cell_type": "code",
   "execution_count": 53,
   "metadata": {},
   "outputs": [
    {
     "name": "stdout",
     "output_type": "stream",
     "text": [
      "T-statistic: 7.295061768883951\n",
      "P-value: 8.834125079117092e-13\n"
     ]
    }
   ],
   "source": [
    "t_stat, p_value = ttest_ind(departure_delays['DEPARTURE_DELAY'], destination_delays['ARRIVAL_DELAY'])\n",
    "print(\"T-statistic:\", t_stat)\n",
    "print(\"P-value:\", p_value)"
   ]
  },
  {
   "cell_type": "code",
   "execution_count": 54,
   "metadata": {},
   "outputs": [
    {
     "name": "stdout",
     "output_type": "stream",
     "text": [
      "    ORIGIN_AIRPORT  DEPARTURE_DELAY\n",
      "0              ABE         8.687023\n",
      "1              ABI         5.747647\n",
      "2              ABQ         8.798552\n",
      "3              ABR        10.101056\n",
      "4              ABY         8.756351\n",
      "..             ...              ...\n",
      "317            WRG         2.953775\n",
      "318            WYS         1.375000\n",
      "319            XNA        11.810889\n",
      "320            YAK        -6.507692\n",
      "321            YUM         1.232470\n",
      "\n",
      "[322 rows x 2 columns]\n"
     ]
    }
   ],
   "source": [
    "# TODO: DELTE AFTER\n",
    "print(departure_delays)"
   ]
  },
  {
   "cell_type": "markdown",
   "metadata": {},
   "source": [
    "### Step 7: Visualization"
   ]
  },
  {
   "cell_type": "code",
   "execution_count": 55,
   "metadata": {},
   "outputs": [
    {
     "data": {
      "image/png": "[encoded data removed]",
      "text/plain": [
       "<Figure size 640x480 with 1 Axes>"
      ]
     },
     "metadata": {},
     "output_type": "display_data"
    }
   ],
   "source": [
    "plt.plot(departure_delays['DEPARTURE_DELAY'], label='Departure Delays')\n",
    "plt.plot(destination_delays['ARRIVAL_DELAY'], label='Destination Delays')\n",
    "plt.xlabel('Airport Index')  # X-axis label\n",
    "plt.ylabel('Mean Delay (minutes)')  # Y-axis label\n",
    "plt.legend()\n",
    "plt.show()"
   ]
  },
  {
   "cell_type": "markdown",
   "metadata": {},
   "source": [
    "### Step 8: Conclusion\n",
    "\n",
    "The low p-value (8.834125079117092e-13) provides strong evidence that there is a statistically significant difference between the means of the departure delays and arrival delays."
   ]
  }
 ],
 "metadata": {
  "kernelspec": {
   "display_name": "Python 3",
   "language": "python",
   "name": "python3"
  },
  "language_info": {
   "codemirror_mode": {
    "name": "ipython",
    "version": 3
   },
   "file_extension": ".py",
   "mimetype": "text/x-python",
   "name": "python",
   "nbconvert_exporter": "python",
   "pygments_lexer": "ipython3",
   "version": "3.10.12"
  },
  "orig_nbformat": 4
 },
 "nbformat": 4,
 "nbformat_minor": 2
}
